{
 "cells": [
  {
   "cell_type": "markdown",
   "metadata": {},
   "source": [
    "# Local Navigation "
   ]
  },
  {
   "cell_type": "markdown",
   "metadata": {},
   "source": [
    "### Thymio connection"
   ]
  },
  {
   "cell_type": "code",
   "execution_count": 2,
   "metadata": {
    "scrolled": false
   },
   "outputs": [],
   "source": [
    "import tdmclient.notebook\n",
    "await tdmclient.notebook.start()"
   ]
  },
  {
   "cell_type": "markdown",
   "metadata": {},
   "source": [
    "### Import libraries"
   ]
  },
  {
   "cell_type": "code",
   "execution_count": 3,
   "metadata": {},
   "outputs": [],
   "source": [
    "import math\n",
    "import numpy as np\n",
    "import serial\n",
    "import time"
   ]
  },
  {
   "cell_type": "code",
   "execution_count": 4,
   "metadata": {},
   "outputs": [],
   "source": [
    "await tdmclient.notebook.stop()"
   ]
  },
  {
   "cell_type": "code",
   "execution_count": 5,
   "metadata": {
    "scrolled": false
   },
   "outputs": [
    {
     "data": {
      "text/plain": [
       "Node 7ceccd72-4650-4181-812c-177085571dc0"
      ]
     },
     "execution_count": 5,
     "metadata": {},
     "output_type": "execute_result"
    }
   ],
   "source": [
    "from tdmclient import ClientAsync, aw\n",
    "client = ClientAsync()\n",
    "node = await client.wait_for_node()\n",
    "await node.lock()"
   ]
  },
  {
   "cell_type": "code",
   "execution_count": 6,
   "metadata": {
    "scrolled": true
   },
   "outputs": [
    {
     "data": {
      "text/plain": [
       "{'_fwversion': [14, 0],\n",
       " '_id': [-1654],\n",
       " '_imot': [0, 0],\n",
       " '_integrator': [0, 0],\n",
       " '_productId': [8],\n",
       " '_vbat': [906, 911],\n",
       " 'acc': [0, 0, 21],\n",
       " 'acc._tap': [0],\n",
       " 'button.backward': [0],\n",
       " 'button.center': [0],\n",
       " 'button.forward': [0],\n",
       " 'button.left': [0],\n",
       " 'button.right': [0],\n",
       " 'buttons._mean': [11433, 9820, 14837, 14744, 16120],\n",
       " 'buttons._noise': [118, 106, 124, 110, 132],\n",
       " 'buttons._raw': [11465, 9814, 14845, 14747, 16146],\n",
       " 'event.args': [0,\n",
       "  0,\n",
       "  0,\n",
       "  0,\n",
       "  0,\n",
       "  0,\n",
       "  0,\n",
       "  0,\n",
       "  0,\n",
       "  0,\n",
       "  0,\n",
       "  0,\n",
       "  0,\n",
       "  0,\n",
       "  0,\n",
       "  0,\n",
       "  0,\n",
       "  0,\n",
       "  0,\n",
       "  0,\n",
       "  0,\n",
       "  0,\n",
       "  0,\n",
       "  0,\n",
       "  0,\n",
       "  0,\n",
       "  0,\n",
       "  0,\n",
       "  0,\n",
       "  0,\n",
       "  0,\n",
       "  0],\n",
       " 'event.source': [-1654],\n",
       " 'leds.bottom.left': [0, 0, 0],\n",
       " 'leds.bottom.right': [0, 0, 0],\n",
       " 'leds.circle': [0, 0, 0, 0, 0, 0, 0, 0],\n",
       " 'leds.top': [0, 0, 0],\n",
       " 'mic._mean': [256],\n",
       " 'mic.intensity': [4],\n",
       " 'mic.threshold': [0],\n",
       " 'motor.left.pwm': [0],\n",
       " 'motor.left.speed': [-4],\n",
       " 'motor.left.target': [0],\n",
       " 'motor.right.pwm': [0],\n",
       " 'motor.right.speed': [0],\n",
       " 'motor.right.target': [0],\n",
       " 'prox.comm.rx': [0],\n",
       " 'prox.comm.rx._intensities': [0, 0, 0, 0, 0, 0, 0],\n",
       " 'prox.comm.rx._payloads': [0, 0, 0, 0, 0, 0, 0],\n",
       " 'prox.comm.tx': [0],\n",
       " 'prox.ground.ambiant': [3, 2],\n",
       " 'prox.ground.delta': [1015, 1019],\n",
       " 'prox.ground.reflected': [889, 892],\n",
       " 'prox.horizontal': [2065, 1419, 0, 2104, 2946, 0, 0],\n",
       " 'rc5.address': [0],\n",
       " 'rc5.command': [0],\n",
       " 'sd.present': [0],\n",
       " 'temperature': [231],\n",
       " 'timer.period': [0, 0]}"
      ]
     },
     "execution_count": 6,
     "metadata": {},
     "output_type": "execute_result"
    }
   ],
   "source": [
    "await node.wait_for_variables()\n",
    "node.var"
   ]
  },
  {
   "cell_type": "code",
   "execution_count": 7,
   "metadata": {},
   "outputs": [],
   "source": [
    "# Connect to the Thymio robot\n",
    "client.tdm_addr\n",
    "client.tdm_port\n",
    "th = node"
   ]
  },
  {
   "cell_type": "markdown",
   "metadata": {},
   "source": [
    "### Desciption\n",
    "Local navigation allows modulating the trajectory to avoid unforeseen, local obstacles. It often pushes the controller to leave the optimal path to make an avoidance manoeuvre. Once the obstacle is passed, the controller can go back to the optimal path or find a new one. An important issue is to decide when the controller has to start avoiding, and, more difficult, when the obstacle can be considered as passed."
   ]
  },
  {
   "cell_type": "markdown",
   "metadata": {},
   "source": [
    "### Parameters "
   ]
  },
  {
   "cell_type": "code",
   "execution_count": 8,
   "metadata": {},
   "outputs": [],
   "source": [
    "## Parameters for local navigation\n",
    "pi = math.pi\n",
    "\n",
    "## Global variables\n",
    "speed0 = 100       # nominal speed\n",
    "speedGain = 2      # speed gain with obstacle\n",
    "obstThrL = 10      # low obstacle threshold to switch state 1->0\n",
    "obstThrH = 20     # high obstacle threshold to switch state 0->1\n",
    "# obstSpeedGainLocal = 5  # /100 (actual gain: 5/100=0.05)\n",
    "obstSpeedGainGlobal = [6, 4, -2, -6, -8]  # /100\n",
    "\n",
    "state = 1          # 0=towards goal, 1=obstacle avoidance\n",
    "obst = [0,0]       # measurements from left and right prox sensors\n",
    "\n",
    "timer_period[0] = 10   # 10ms sampling time"
   ]
  },
  {
   "cell_type": "markdown",
   "metadata": {},
   "source": [
    "### Sensor readings"
   ]
  },
  {
   "cell_type": "code",
   "execution_count": 9,
   "metadata": {},
   "outputs": [
    {
     "name": "stdout",
     "output_type": "stream",
     "text": [
      "[2065, 1419, 0, 2104, 2946, 0, 0]\n",
      "[2048, 1356, 0, 2055, 2609, 0, 0]\n",
      "[2075, 1459, 0, 2269, 2493, 0, 0]\n",
      "[2114, 1730, 2574, 3305, 3430, 0, 0]\n",
      "[2094, 1473, 3252, 4256, 4335, 0, 0]\n",
      "[2077, 1458, 3670, 4570, 4605, 0, 0]\n",
      "[2070, 1477, 3869, 4714, 4687, 0, 0]\n",
      "[2069, 1622, 1831, 2505, 2722, 0, 0]\n",
      "[2068, 1502, 0, 0, 2027, 0, 0]\n",
      "[1971, 0, 0, 0, 0, 0, 0]\n"
     ]
    }
   ],
   "source": [
    "await node.wait_for_variables()\n",
    "for i in range(10):\n",
    "    # You can also replace \"prox.horizontal\" by an other prox sensor:\n",
    "    print(list(node[\"prox.horizontal\"]))\n",
    "    await client.sleep(0.2)"
   ]
  },
  {
   "cell_type": "code",
   "execution_count": 10,
   "metadata": {},
   "outputs": [
    {
     "name": "stdout",
     "output_type": "stream",
     "text": [
      "[1913, 0, 0, 0, 0, 0, 0]\n",
      "[1944, 0, 0, 0, 0, 0, 0]\n",
      "[1976, 0, 0, 0, 0, 0, 0]\n",
      "[2023, 1544, 0, 0, 0, 0, 0]\n",
      "[2108, 1725, 1652, 0, 0, 0, 0]\n",
      "[1692, 0, 0, 0, 1672, 0, 0]\n",
      "[0, 0, 0, 0, 1440, 0, 0]\n",
      "[0, 0, 0, 0, 0, 0, 0]\n",
      "[0, 0, 0, 0, 1486, 0, 0]\n",
      "[0, 0, 0, 0, 0, 0, 0]\n"
     ]
    }
   ],
   "source": [
    "# Reading sensor measurements\n",
    "# sensor_prox = th[\"prox.horizontal\"]\n",
    "await node.wait_for_variables({\"prox.horizontal\"})\n",
    "for i in range(10):\n",
    "    sensor_prox = node.v.prox.horizontal \n",
    "    print(list(sensor_prox))\n",
    "    await client.sleep(0.2)"
   ]
  },
  {
   "cell_type": "markdown",
   "metadata": {},
   "source": [
    "### Functions"
   ]
  },
  {
   "cell_type": "code",
   "execution_count": 11,
   "metadata": {},
   "outputs": [
    {
     "data": {
      "text/plain": [
       "Node 7ceccd72-4650-4181-812c-177085571dc0"
      ]
     },
     "execution_count": 11,
     "metadata": {},
     "output_type": "execute_result"
    }
   ],
   "source": [
    "aw(node.lock())"
   ]
  },
  {
   "cell_type": "code",
   "execution_count": 12,
   "metadata": {},
   "outputs": [],
   "source": [
    "@onevent\n",
    "def move_forward(speed0):\n",
    "#     global motor_left_target, motor_right_target\n",
    "    v = {\n",
    "        \"motor.left.target\": [speed0],\n",
    "        \"motor.right.target\": [speed0],\n",
    "    }\n",
    "    aw(node.set_variables(v))\n",
    "\n",
    "@onevent\n",
    "def stop_moving():\n",
    "#     global motor_left_target, motor_right_target\n",
    "    x = {\n",
    "        \"motor.left.target\": [0],\n",
    "        \"motor.right.target\": [0],\n",
    "    }\n",
    "    aw(node.set_variables(x))"
   ]
  },
  {
   "cell_type": "markdown",
   "metadata": {},
   "source": [
    "### Method 1\n",
    "#### 1. ANN\n",
    "- Train to find appropriate weights for each sensor\n",
    "\n",
    "#### 2. Potential Field Navigation"
   ]
  },
  {
   "cell_type": "code",
   "execution_count": 18,
   "metadata": {},
   "outputs": [],
   "source": [
    "@onevent \n",
    "def pt_field(sensor_prox):\n",
    "    global speed0, speedGain, obstSpeedGainGlobal\n",
    "    \n",
    "    # speed based on nominal velocity and ground\n",
    "    spLeft = speed0 - speedGain \n",
    "    spRight = speed0 + speedGain\n",
    "    \n",
    "    # adjustment for obstacles\n",
    "    for i in range(5):\n",
    "        print(sensor_prox[0])\n",
    "        spLeft += sensor_prox[i] * obstSpeedGainGlobal[i] // 100\n",
    "        spRight += sensor_prox[i] * obstSpeedGainGlobal[4 - i] // 100\n",
    "    \n",
    "    # motor control\n",
    "    y = {\n",
    "        \"motor.left.target\": [spLeft],\n",
    "        \"motor.right.target\": [spRight],\n",
    "    }\n",
    "    aw(node.set_variables(y))\n",
    "#     motor_left_target = spLeft\n",
    "#     motor_right_target = spRight\n",
    "    \n",
    "    # Move in the same direction for 2 more seconds\n",
    "#     move_forward(speed0)\n",
    "#     time.sleep(0.2)\n",
    "#     stop_moving()\n",
    "    \n",
    "#      # Continue towards goal\n",
    "#     move_forward(speed0)   "
   ]
  },
  {
   "cell_type": "code",
   "execution_count": 23,
   "metadata": {},
   "outputs": [
    {
     "name": "stdout",
     "output_type": "stream",
     "text": [
      "[0, 0, 0, 0, 0, 0, 0]\n",
      "[0, 2415, 4315, 0, 0, 0, 0]\n",
      "[0, 2419, 4293, 0, 0, 0, 0]\n",
      "[0, 2428, 4299, 0, 0, 0, 0]\n",
      "[0, 2412, 4296, 0, 0, 0, 0]\n",
      "[0, 2415, 4298, 0, 0, 0, 0]\n",
      "[0, 2418, 4296, 0, 0, 0, 0]\n",
      "[0, 2428, 4300, 0, 0, 0, 0]\n",
      "[0, 2424, 4300, 0, 0, 0, 0]\n",
      "[0, 2419, 4296, 0, 0, 0, 0]\n",
      "[0, 2434, 4293, 0, 0, 0, 0]\n",
      "[0, 2421, 4298, 0, 0, 0, 0]\n",
      "[0, 2427, 4294, 0, 0, 0, 0]\n",
      "[0, 2420, 4300, 0, 0, 0, 0]\n",
      "[0, 2427, 4299, 0, 0, 0, 0]\n",
      "[0, 2440, 4300, 0, 0, 0, 0]\n",
      "[0, 2449, 4303, 0, 0, 0, 0]\n",
      "[0, 2445, 4301, 0, 0, 0, 0]\n",
      "[0, 2452, 4303, 0, 0, 0, 0]\n",
      "[0, 2464, 4297, 0, 0, 0, 0]\n",
      "[0, 2461, 4299, 0, 0, 0, 0]\n",
      "[0, 2460, 4300, 0, 0, 0, 0]\n",
      "[0, 2471, 4304, 0, 0, 0, 0]\n",
      "[0, 2472, 4301, 0, 0, 0, 0]\n",
      "[0, 2468, 4300, 0, 0, 0, 0]\n",
      "[0, 2465, 4300, 0, 0, 0, 0]\n",
      "[0, 2459, 4299, 0, 0, 0, 0]\n",
      "[0, 2457, 4300, 0, 0, 0, 0]\n",
      "[0, 2469, 4300, 0, 0, 0, 0]\n",
      "[0, 2464, 4299, 0, 0, 0, 0]\n",
      "[0, 2470, 4302, 0, 0, 0, 0]\n",
      "[0, 2473, 4302, 0, 0, 0, 0]\n",
      "[0, 2474, 4302, 0, 0, 0, 0]\n",
      "[0, 2464, 4304, 0, 0, 0, 0]\n",
      "[0, 2474, 4298, 0, 0, 0, 0]\n",
      "[0, 2468, 4300, 0, 0, 0, 0]\n",
      "[0, 2474, 4304, 0, 0, 0, 0]\n",
      "[0, 2508, 4304, 0, 0, 0, 0]\n",
      "[0, 2539, 4302, 0, 0, 0, 0]\n",
      "[0, 2564, 4298, 0, 0, 0, 0]\n",
      "[0, 2580, 4302, 0, 0, 0, 0]\n",
      "[0, 2597, 4286, 0, 0, 0, 0]\n",
      "[0, 2585, 4283, 0, 0, 0, 0]\n",
      "[0, 2589, 4276, 0, 0, 0, 0]\n",
      "[0, 2577, 4231, 0, 0, 0, 0]\n",
      "[0, 2562, 4136, 0, 0, 0, 0]\n",
      "[0, 2423, 4129, 0, 0, 0, 0]\n",
      "[0, 2405, 4134, 0, 0, 0, 0]\n",
      "[0, 2395, 4135, 0, 0, 0, 0]\n",
      "[0, 2395, 4135, 0, 0, 0, 0]\n",
      "[0, 2389, 4130, 0, 0, 0, 0]\n",
      "[0, 2415, 4134, 0, 0, 0, 0]\n",
      "[2963, 2817, 4151, 0, 0, 0, 0]\n",
      "2963\n",
      "2963\n",
      "2963\n",
      "2963\n",
      "2963\n",
      "[0, 2546, 4102, 0, 0, 0, 0]\n",
      "[5073, 0, 0, 0, 0, 0, 0]\n",
      "5073\n",
      "5073\n",
      "5073\n",
      "5073\n",
      "5073\n",
      "[0, 0, 0, 0, 0, 0, 0]\n",
      "[0, 0, 0, 0, 0, 0, 0]\n",
      "[0, 0, 0, 0, 0, 0, 0]\n",
      "[0, 0, 0, 0, 0, 0, 0]\n",
      "[0, 0, 0, 0, 0, 0, 0]\n",
      "[0, 1775, 2257, 0, 0, 0, 0]\n",
      "[0, 1408, 2841, 0, 0, 0, 0]\n",
      "[0, 0, 2825, 0, 0, 0, 0]\n",
      "[0, 0, 2839, 0, 0, 2848, 0]\n",
      "[0, 0, 2839, 0, 0, 3665, 0]\n",
      "[0, 0, 2836, 0, 0, 3723, 0]\n",
      "[0, 0, 2835, 0, 0, 3685, 0]\n",
      "[0, 0, 2840, 0, 0, 3680, 0]\n",
      "[0, 0, 2838, 0, 0, 3630, 0]\n",
      "[0, 0, 2831, 0, 0, 3562, 0]\n",
      "[0, 0, 2840, 0, 0, 3433, 0]\n",
      "[0, 0, 2841, 0, 0, 3377, 0]\n",
      "[0, 0, 2833, 0, 0, 3495, 0]\n",
      "[0, 0, 2833, 0, 0, 3454, 0]\n",
      "[0, 0, 2839, 0, 0, 3507, 0]\n",
      "[0, 0, 2838, 0, 0, 3568, 0]\n",
      "[0, 0, 2829, 0, 0, 3543, 0]\n",
      "[0, 0, 2839, 0, 0, 3553, 0]\n",
      "[0, 0, 2837, 0, 0, 3475, 0]\n",
      "[0, 0, 2842, 0, 0, 3663, 0]\n",
      "[0, 0, 2839, 0, 0, 3765, 0]\n",
      "[0, 0, 2836, 0, 0, 4014, 0]\n",
      "[0, 0, 2843, 0, 0, 4264, 0]\n",
      "[0, 0, 2843, 0, 0, 4491, 0]\n",
      "[0, 0, 2840, 0, 0, 4507, 0]\n",
      "[0, 0, 2835, 0, 0, 4654, 0]\n",
      "[0, 0, 2843, 0, 0, 4611, 0]\n",
      "[0, 0, 2839, 0, 0, 4588, 0]\n",
      "[0, 0, 2824, 0, 0, 4583, 0]\n",
      "[0, 0, 2830, 0, 0, 4627, 0]\n",
      "[0, 0, 2845, 0, 0, 4806, 0]\n",
      "[0, 0, 2838, 0, 0, 5066, 0]\n",
      "[0, 0, 2844, 0, 0, 5071, 0]\n",
      "[0, 0, 2846, 0, 0, 4968, 0]\n",
      "[0, 1493, 2867, 0, 0, 4312, 0]\n",
      "[0, 1514, 2855, 0, 0, 3376, 0]\n",
      "[0, 1518, 2852, 0, 0, 3625, 0]\n",
      "[0, 1557, 2850, 0, 0, 3617, 0]\n",
      "[0, 1528, 2861, 0, 0, 4671, 0]\n",
      "[0, 1518, 2860, 0, 0, 5083, 0]\n"
     ]
    }
   ],
   "source": [
    "# Test\n",
    "# acquisition from the proximity sensors to detect obstacles\n",
    "await node.wait_for_variables({\"prox.horizontal\"})\n",
    "\n",
    "for i in range(100): \n",
    "    sensor_prox = node[\"prox.horizontal\"]\n",
    "#     sensor_prox = node.v.prox.horizontal \n",
    "    print(list(sensor_prox))\n",
    "    obst = [sensor_prox[0], sensor_prox[4]]\n",
    "\n",
    "    if state == 0: \n",
    "        # switch from goal tracking to obst avoidance if obstacle detected\n",
    "        if (obst[0] > obstThrH):\n",
    "            state = 1\n",
    "        elif (obst[1] > obstThrH):\n",
    "            state = 1\n",
    "    elif state == 1:\n",
    "        if obst[0] < obstThrL:\n",
    "            if obst[1] < obstThrL : \n",
    "                # switch from obst avoidance to goal tracking if obstacle got unseen\n",
    "                # move 2 more seconds in the same direction\n",
    "                state = 0\n",
    "                move_forward(speed0)\n",
    "                time.sleep(2)\n",
    "                stop_moving()\n",
    "    if  state == 0 :\n",
    "        # goal tracking: stop for now\n",
    "        leds_top = [0,0,0]\n",
    "        stop_moving()\n",
    "    else:\n",
    "        leds_top = [30,30,30]\n",
    "        pt_field(sensor_prox)\n",
    "        # obstacle avoidance: accelerate wheel near obstacle\n",
    "        # motor_left_target = speed0 + obstSpeedGain * (obst[0] // 100)\n",
    "        #motor_right_target = speed0 + obstSpeedGain * (obst[1] // 100)\n",
    "\n",
    "    await client.sleep(0.2) # Buffer for Thymio to read sensor readings"
   ]
  },
  {
   "cell_type": "code",
   "execution_count": 22,
   "metadata": {},
   "outputs": [],
   "source": [
    "# Stop motion\n",
    "move_forward(0)"
   ]
  },
  {
   "cell_type": "code",
   "execution_count": 200,
   "metadata": {},
   "outputs": [],
   "source": [
    "aw(node.unlock())"
   ]
  },
  {
   "cell_type": "code",
   "execution_count": null,
   "metadata": {},
   "outputs": [],
   "source": []
  },
  {
   "cell_type": "code",
   "execution_count": null,
   "metadata": {},
   "outputs": [],
   "source": []
  },
  {
   "cell_type": "code",
   "execution_count": null,
   "metadata": {},
   "outputs": [],
   "source": []
  }
 ],
 "metadata": {
  "kernelspec": {
   "display_name": "bmr",
   "language": "python",
   "name": "bmr"
  },
  "language_info": {
   "codemirror_mode": {
    "name": "ipython",
    "version": 3
   },
   "file_extension": ".py",
   "mimetype": "text/x-python",
   "name": "python",
   "nbconvert_exporter": "python",
   "pygments_lexer": "ipython3",
   "version": "3.10.9"
  },
  "toc": {
   "base_numbering": 1,
   "nav_menu": {},
   "number_sections": false,
   "sideBar": true,
   "skip_h1_title": true,
   "title_cell": "Table of Contents",
   "title_sidebar": "Contents",
   "toc_cell": true,
   "toc_position": {
    "height": "calc(100% - 180px)",
    "left": "10px",
    "top": "150px",
    "width": "291.675px"
   },
   "toc_section_display": true,
   "toc_window_display": true
  },
  "varInspector": {
   "cols": {
    "lenName": 16,
    "lenType": 16,
    "lenVar": 40
   },
   "kernels_config": {
    "python": {
     "delete_cmd_postfix": "",
     "delete_cmd_prefix": "del ",
     "library": "var_list.py",
     "varRefreshCmd": "print(var_dic_list())"
    },
    "r": {
     "delete_cmd_postfix": ") ",
     "delete_cmd_prefix": "rm(",
     "library": "var_list.r",
     "varRefreshCmd": "cat(var_dic_list()) "
    }
   },
   "types_to_exclude": [
    "module",
    "function",
    "builtin_function_or_method",
    "instance",
    "_Feature"
   ],
   "window_display": true
  }
 },
 "nbformat": 4,
 "nbformat_minor": 2
}
