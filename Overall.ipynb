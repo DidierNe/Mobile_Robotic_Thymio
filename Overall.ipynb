{
 "cells": [
  {
   "cell_type": "markdown",
   "id": "6ec54a03",
   "metadata": {},
   "source": [
    "# Overall"
   ]
  },
  {
   "cell_type": "markdown",
   "id": "11f0b092",
   "metadata": {},
   "source": [
    "The project was realized by assembling various components. The camera, an essential element, provides the vision necessary for global navigation and filtering. It plays a crucial role in detecting the robot, the target, and fixed obstacles, thus allowing the calculation of the optimal path. It also provides position data ($x,y$) and the orientation ($\\theta$) of the robot, which are indispensable for estimating its position when using the Kalman filter.\n",
    "\n",
    "Global navigation generates the coordinates of the path to follow to reach the target. The Kalman filter, on the other hand, receives position and orientation data measured by the camera, as well as information related to motion control (wheel speeds and travel time). It outputs the best estimate of Thymio's real position.\n",
    "\n",
    "Finally, the robot constantly interacts with local navigation and motion control to avoid local obstacles and move towards its destination. The motor commands are used to move the robot, while the frontal proximity sensors are used to detect local obstacles. \n",
    "\n",
    "![interactions](Images/Interactions.png)\n",
    "\n",
    "The functioning of the project is detailed below. Following initialization, a mapping is carried out, allowing the calculation of the global path. The program then enters a loop that continues until the robot reaches its destination. At each iteration of this loop, the robot checks whether it has been kidnnaped or if a mobile obstacle is in its path. If either of these situations occurs, the robot recalculates a global path (after avoiding any potential obstacle). If none of these situations occur, the robot performs the movement defined by the motion control. Once the movement is completed, the robot checks whether its current position corresponds to its final destination. It should be noted that the robot is capable of moving with or without the information provided by the camera.\n",
    "\n",
    "![interactions](Images/Working_principle.png)\n",
    "\n",
    "\n"
   ]
  },
  {
   "cell_type": "markdown",
   "id": "cbdc9d8f",
   "metadata": {},
   "source": [
    "## Graphe parallaxe"
   ]
  },
  {
   "cell_type": "markdown",
   "id": "88a24c68",
   "metadata": {},
   "source": [
    "In the context of our robotics project, we encountered a specific challenge related to detecting our robot's position. When the robot was perfectly positioned on a specific target, a sheet placed on the ground, it did not report the expected coordinates. We identified that this problem was due to parallax caused by the thickness of the robot. Due to its viewing angle, the aerial camera distorted the real position of the robot. To solve this problem, we projected the robot's position onto a 2D plane and used correction functions to adjust the coordinates. This allowed us to read the robot's position more accurately."
   ]
  },
  {
   "cell_type": "code",
   "execution_count": null,
   "id": "a10bceda",
   "metadata": {},
   "outputs": [],
   "source": []
  }
 ],
 "metadata": {
  "kernelspec": {
   "display_name": "Python 3 (ipykernel)",
   "language": "python",
   "name": "python3"
  },
  "language_info": {
   "codemirror_mode": {
    "name": "ipython",
    "version": 3
   },
   "file_extension": ".py",
   "mimetype": "text/x-python",
   "name": "python",
   "nbconvert_exporter": "python",
   "pygments_lexer": "ipython3",
   "version": "3.11.5"
  }
 },
 "nbformat": 4,
 "nbformat_minor": 5
}
