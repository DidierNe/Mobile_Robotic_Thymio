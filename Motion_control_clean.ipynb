{
 "cells": [
  {
   "cell_type": "markdown",
   "id": "6ec54a03",
   "metadata": {},
   "source": [
    "# Motion control"
   ]
  },
  {
   "cell_type": "markdown",
   "id": "0398516e",
   "metadata": {},
   "source": [
    "## Connection/ disconnection functions"
   ]
  },
  {
   "cell_type": "markdown",
   "id": "0a33bf26",
   "metadata": {},
   "source": [
    "Initially, functions facilitating the establishment and termination of the connection with the robot have been implemented."
   ]
  },
  {
   "cell_type": "code",
   "execution_count": 1,
   "id": "d4e2ac1c",
   "metadata": {},
   "outputs": [],
   "source": [
    "# Thymio connection\n",
    "async def connect_Thymio():\n",
    "    \"\"\"\n",
    "    Establish a connection with the Thymio if possible\n",
    "    \"\"\"\n",
    "    global node, client\n",
    "    try:\n",
    "        client = ClientAsync()\n",
    "        node = await asyncio.wait_for(client.wait_for_node(), timeout=2.0)\n",
    "        await node.lock()\n",
    "        print(\"Thymio connected\")\n",
    "\n",
    "    except asyncio.TimeoutError:\n",
    "        print(\"Thymio not connected: Timeout while waiting for node.\")\n",
    "    except Exception as e:\n",
    "        print(f\"Thymio not connected: {str(e)}\")\n",
    "        \n",
    "# Thymio disconnection\n",
    "def disconnect_Thymio():\n",
    "    \"\"\"\n",
    "    Enable to disconnect the Thymio\n",
    "    \"\"\"\n",
    "    aw(node.stop())\n",
    "    aw(node.unlock())\n",
    "    print(\"Thymio disconnected\")"
   ]
  },
  {
   "cell_type": "markdown",
   "id": "4cf61c3b",
   "metadata": {},
   "source": [
    "## Motion functions"
   ]
  },
  {
   "cell_type": "markdown",
   "id": "44c64199",
   "metadata": {},
   "source": [
    "The robot’s movement from its starting position to the target is executed using the coordinates of the global path. To transition from one coordinate to the next, a specific method has been adopted. The robot begins by orienting itself towards the next point, taking into account its current orientation. Once the orientation is adjusted, the robot performs a straight-line movement to the next point. This step is repeated from position to position until the final destination is reached. The basic functions therefore include: activation and deactivation of motors, rotation by a defined angle, and linear movement over a defined distance."
   ]
  },
  {
   "cell_type": "code",
   "execution_count": 3,
   "id": "caf94074",
   "metadata": {},
   "outputs": [],
   "source": [
    "# Thymio set motors speeds  \n",
    "async def set_speeds(left_speed, right_speed):\n",
    "    \"\"\"\n",
    "    Enable to set the speed of the Thymio's wheels\n",
    "    \"\"\"\n",
    "    global node\n",
    "    v = {\n",
    "        \"motor.left.target\":  [left_speed],\n",
    "        \"motor.right.target\": [right_speed],\n",
    "    }\n",
    "    await node.set_variables(v)\n",
    "    \n",
    "# Thymio motors stop     \n",
    "async def motors_stop():\n",
    "    \"\"\"\n",
    "    Stop the Thymio\n",
    "    \"\"\"\n",
    "    global node\n",
    "    v = {\n",
    "        \"motor.left.target\":  [0],\n",
    "        \"motor.right.target\": [0],\n",
    "    }\n",
    "    await node.set_variables(v)    \n",
    "\n",
    "# Conversion factors\n",
    "Thymio_to_mms = 0.349\n",
    "px_to_mm = 137/100\n",
    "# Constants\n",
    "ROTATION_SPEED = 100\n",
    "TIME_FULL_TURN = (8800/1000)\n",
    "\n",
    "# Thymio turns a specied angle\n",
    "async def turn(angle):\n",
    "    # Calculate the time needed to turn through the required angle\n",
    "    rotation_time = (abs(angle) / (2*np.pi)) * TIME_FULL_TURN\n",
    "\n",
    "    # Turn robot on itself\n",
    "    # Check the sign of angle\n",
    "    if np.sign(angle) > 0:\n",
    "        # If angle is positive, turn left\n",
    "        await set_speeds(-ROTATION_SPEED, ROTATION_SPEED)\n",
    "        left_or_right = TURN_LEFT\n",
    "    else:\n",
    "        # If angle is negative, turn right\n",
    "        await set_speeds(ROTATION_SPEED, -ROTATION_SPEED)\n",
    "        left_or_right = TURN_RIGHT\n",
    "\n",
    "    # Wait required time\n",
    "    time.sleep(rotation_time)\n",
    "    return rotation_time, left_or_right\n",
    "\n",
    "# Constants\n",
    "FORWARD_SPEED = 200 \n",
    "TIME_PER_MM = 15.5/1000  # Time it takes for the robot to travel one meter at base speed\n",
    "\n",
    "async def move_forward(distance_px):\n",
    "    # Calculate the time needed to travel the requested distance\n",
    "    \n",
    "    distance_mm = distance_px * px_to_mm\n",
    "    travel_time = (distance_mm) * TIME_PER_MM\n",
    "    \n",
    "    # Robot moves forward\n",
    "    await set_speeds(FORWARD_SPEED, FORWARD_SPEED)\n",
    "\n",
    "    # Wait for the necessary time\n",
    "    time.sleep(travel_time)\n",
    "    return travel_time"
   ]
  },
  {
   "cell_type": "markdown",
   "id": "81239ac0",
   "metadata": {},
   "source": [
    "## Motion control function"
   ]
  },
  {
   "cell_type": "markdown",
   "id": "c0634459",
   "metadata": {},
   "source": [
    "The management of one coordinate to another is entirely handled by the following function, which determines whether the next movement is a rotation or a translation, and establishes the angle or distance to be covered."
   ]
  },
  {
   "cell_type": "code",
   "execution_count": 4,
   "id": "b91f995c",
   "metadata": {},
   "outputs": [],
   "source": [
    "async def reach_next_node(next_node, mode, estimated_pos):\n",
    "\n",
    "    # Vector between the estimated position and the next position in the global path\n",
    "    vector_next_node = np.array([0,0])  \n",
    "    vector_next_node[0] = path_final[0][next_node] - estimated_pos[0]\n",
    "    vector_next_node[1] = path_final[1][next_node] - estimated_pos[1] \n",
    "    \n",
    "    # Normalized angle between the estimated position and the next position in the global path\n",
    "    gamma = -math.atan2(vector_next_node[1], vector_next_node[0]) - estimated_pos[2]\n",
    "    gamma = (gamma + np.pi) % (2*np.pi) - np.pi\n",
    "    \n",
    "    # Distance separating the estimated position and the next position in the global path\n",
    "    path_next_node = np.array([path_final[0][next_node], path_final[1][next_node]])\n",
    "    path_current_node = np.array([estimated_pos[0], estimated_pos[1]])\n",
    "    d = np.linalg.norm(path_next_node - path_current_node)\n",
    "    \n",
    "    if(not mode):\n",
    "        if(abs(gamma) > ANGLE_THRESHOLD):\n",
    "            time_r, left_or_right = await turn(gamma)\n",
    "        else: \n",
    "            time_r = 0 \n",
    "            left_or_right = 1  \n",
    "        return time_r, left_or_right \n",
    "        \n",
    "    if (mode):\n",
    "        if( d > FORWARD_THRESHOLD):\n",
    "            time_f = await move_forward(d)\n",
    "            return time_f"
   ]
  }
 ],
 "metadata": {
  "kernelspec": {
   "display_name": "Python 3 (ipykernel)",
   "language": "python",
   "name": "python3"
  },
  "language_info": {
   "codemirror_mode": {
    "name": "ipython",
    "version": 3
   },
   "file_extension": ".py",
   "mimetype": "text/x-python",
   "name": "python",
   "nbconvert_exporter": "python",
   "pygments_lexer": "ipython3",
   "version": "3.11.5"
  }
 },
 "nbformat": 4,
 "nbformat_minor": 5
}
