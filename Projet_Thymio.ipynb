{
 "cells": [
  {
   "cell_type": "markdown",
   "id": "84588a6d-d18e-4ad6-8d06-e251d942fb7c",
   "metadata": {},
   "source": [
    "# [MICRO-452:] Project Report - Groupe 28\n",
    "**Authors:** Celest Angela Tjong, Adrien Louis Baptiste Dupont, Luca Sidoti Pinto, Didier Henri Neuenschwander\n",
    "**Supervisors:** Prof. Francesco Mondada\n",
    "Date: 17 Novembre 2023\n",
    "\n",
    "[MICRO-452]: **to be changed**"
   ]
  },
  {
   "cell_type": "markdown",
   "id": "034c8421-4f25-49b6-8bc0-f73cc5369cd5",
   "metadata": {},
   "source": [
    "# Table of Contents\r\n",
    "* [1. Introduction](#introduction)\r\n",
    "* [2. Vision](#vision)\r\n",
    "    * [2.1. Subsection 1](#vision-subsection-1)\r\n",
    "    * [2.2. Subsection 2](#vision-subsection-2)\r\n",
    "* [3. Global Navigation](#global-navigation)\r\n",
    "* [4. Filtering](#filtering)\r\n",
    "* [5. Local Navigation](#local-navigation)\r\n",
    "* [6. Conclusion](#conclusion)\r\n",
    "lusion)\r\n",
    "clusion)\r\n",
    "usion)\r\n"
   ]
  },
  {
   "cell_type": "markdown",
   "id": "cd4e09dc-1142-46dd-8485-6bc9b292bf37",
   "metadata": {},
   "source": [
    "## 1 Introduction\n",
    "<a id=\"introduction\"></a>"
   ]
  },
  {
   "cell_type": "markdown",
   "id": "43bfb7cc-aff3-468a-855e-2ef86f760444",
   "metadata": {},
   "source": [
    "## 2 Vision\n",
    "<a id=\"vision\"></a>"
   ]
  },
  {
   "cell_type": "markdown",
   "id": "2add8a4f-6198-4070-8728-8f1b016321d7",
   "metadata": {},
   "source": [
    "### Vision Subsection 1\n",
    "<a id=\"Vision-subsection-1\"></a>\n",
    "\n",
    "\n",
    "\n"
   ]
  },
  {
   "cell_type": "markdown",
   "id": "864f1ea7-1588-4b28-8bbc-6a1fd6180ce2",
   "metadata": {},
   "source": [
    "### Vision Subsection 2 \n",
    "<a id=\"Vision-subsection-2\"></a>\n"
   ]
  },
  {
   "cell_type": "markdown",
   "id": "e89d89a2-0751-4907-9a38-cee54fc239fd",
   "metadata": {},
   "source": [
    "## 3 Global Navigation\n",
    "<a id=\"global-navigation\"></a>"
   ]
  },
  {
   "cell_type": "markdown",
   "id": "eee4515a-9acf-4d55-a716-a1843641eb0f",
   "metadata": {},
   "source": [
    "## 4 Filtering\r\n",
    "<a id=\"filtering\"></a>"
   ]
  },
  {
   "cell_type": "markdown",
   "id": "8e109c17-35c3-46cc-899d-fce3f57f88b2",
   "metadata": {},
   "source": [
    "## 5 Local Navigation\n",
    "<a id=\"local-navigation\"></a>"
   ]
  },
  {
   "cell_type": "markdown",
   "id": "5b83967b-ca11-47f2-bd4e-4084c88d5829",
   "metadata": {},
   "source": [
    "## 6 Conclusion\n",
    "<a id=\"conclusion\"></a>"
   ]
  }
 ],
 "metadata": {
  "kernelspec": {
   "display_name": "Python 3 (ipykernel)",
   "language": "python",
   "name": "python3"
  },
  "language_info": {
   "codemirror_mode": {
    "name": "ipython",
    "version": 3
   },
   "file_extension": ".py",
   "mimetype": "text/x-python",
   "name": "python",
   "nbconvert_exporter": "python",
   "pygments_lexer": "ipython3",
   "version": "3.11.2"
  }
 },
 "nbformat": 4,
 "nbformat_minor": 5
}
