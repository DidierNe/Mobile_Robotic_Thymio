{
 "cells": [
  {
   "cell_type": "markdown",
   "id": "163a58d0",
   "metadata": {},
   "source": [
    "# Motion Control"
   ]
  },
  {
   "cell_type": "code",
   "execution_count": 40,
   "id": "413501ab",
   "metadata": {},
   "outputs": [],
   "source": [
    "import numpy as np\n",
    "import time\n",
    "import math"
   ]
  },
  {
   "cell_type": "markdown",
   "id": "83d4c8ec",
   "metadata": {},
   "source": [
    "Import variables from other subsystems"
   ]
  },
  {
   "cell_type": "code",
   "execution_count": 44,
   "id": "df27044e",
   "metadata": {},
   "outputs": [
    {
     "name": "stdout",
     "output_type": "stream",
     "text": [
      "[[  0  20  20  40  60  60  60  60  60  60  60  60  60  60  80 100 120 140\n",
      "  160 180 200 200 200 200 200 200 200 200 200 220 240 260 280 300 320 340\n",
      "  360 380 400 420 440 460 480 500 520 540 560 580 600 620 640 660 680 680\n",
      "  700]\n",
      " [  0  20  40  60  80 100 120 140 160 180 200 220 240 260 280 300 320 340\n",
      "  360 380 400 420 440 460 480 500 520 540 560 580 600 620 640 660 680 700\n",
      "  700 700 700 700 700 700 700 700 700 720 740 760 780 800 820 840 860 880\n",
      "  900]]\n"
     ]
    }
   ],
   "source": [
    "reduction_coeff = 20\n",
    "path = np.array([[0, 1, 1, 2, 3, 3, 3, 3, 3, 3, 3, 3, 3, 3, 4, 5, 6, 7, 8, 9, 10, 10, 10, 10,\n",
    "                  10, 10, 10, 10, 10, 11, 12, 13, 14, 15, 16, 17, 18, 19, 20, 21, 22, 23, 24, 25,\n",
    "                  26, 27, 28, 29, 30, 31, 32, 33, 34, 34, 35],\n",
    "                 [0, 1, 2, 3, 4, 5, 6, 7, 8, 9, 10, 11, 12, 13, 14, 15, 16, 17, 18, 19, 20, 21, 22,\n",
    "                  23, 24, 25, 26, 27, 28, 29, 30, 31, 32, 33, 34, 35, 35, 35, 35, 35, 35, 35, 35,\n",
    "                  35, 35, 36, 37, 38, 39, 40, 41, 42, 43, 44, 45]])\n",
    "path = reduction_coeff * path\n",
    "start = np.array([path[0][0], path[1][0]])\n",
    "goal = np.array([path[0][path.shape[1]-1], path[1][path.shape[1]-1]])\n",
    "\n",
    "position = start\n",
    "# orientation = \n",
    "\n",
    "\n",
    "print(path)"
   ]
  },
  {
   "cell_type": "code",
   "execution_count": null,
   "id": "ac9018dc",
   "metadata": {},
   "outputs": [],
   "source": [
    "theta = 0 # angle entre orientation actuelle et orientation pour le point suivant\n",
    "current_node = 1 # indice de l'étape suivante\n",
    "dist_to_node = 0 # distance en pixels séparant le robot de l'étape suivante  \n",
    "norm_vector_node = np.array([0,0]) # vecteur normalisé reliant la position à la prochaine étape\n",
    "\n",
    "ANGLE_THRESHOLD = 0.1 # valeur à partir de laquelle le robot arrête de tourner et commence à avancer vers la prochaine étape\n",
    "DISTANCE_TO_NODE_THRESHOLD = 10 # valeur à partir de laquelle le robot change d'étape\n",
    "\n",
    "\n",
    "while True:\n",
    "    print(position[0])\n",
    "    norm_vector_node[0] = path[0][current_node] - position[0]\n",
    "    norm_vector_node[1] = path[1][current_node] - position[1] # calcul du vecteur normalisé\n",
    "    norm_vector_node = norm_vector_node / np.linalg.norm(norm_vector_node)\n",
    "    alpha = np.arctan(norm_vector_node) # calcul de l'angle (A REFAIRE EN FONCTION DE COMMENT ON CALCULE LES ORIENTATIONS)\n",
    "\n",
    "    theta = np.arccos(np.dot(position,norm_vector_node))  # Calcul de theta\n",
    "    print(path[:][current_node])\n",
    "    dist_to_node = np.linalg.norm(path[:, current_node] - position) # On calcule la distance \n",
    "\n",
    "\n",
    "    while (theta < ANGLE_THRESHOLD): # Tourner le robot jusqu'à être en dessous d'une certaine valeur de threshold\n",
    "\n",
    "        start_time = time.time()\n",
    "        #\n",
    "        #\n",
    "        # fonction qui fait tourner le robot pour être dans la bonne direction\n",
    "        #\n",
    "        #\n",
    "        end_time = time.time()\n",
    "        elapsed_time_rot = end_time - start_time\n",
    "\n",
    "    while ( dist_to_node > DISTANCE_TO_NODE_THRESHOLD): # Avancer le robot jusqu'à  atteindre la prochaine étape\n",
    "\n",
    "        start_time = time.time()\n",
    "        #\n",
    "        #\n",
    "        # fonction pour faire avancer le robot à 60\n",
    "        #\n",
    "        #\n",
    "        end_time = time.time()\n",
    "        elapsed_time_forw = end_time - start_time # return la distance parcourue en multipliant la vitesse par le temps\n",
    "        \n",
    "\n",
    "        current_node = current_node + 1\n",
    "\n",
    "\n",
    "    if current == path.shape[1]:\n",
    "        break\n",
    "print(\"On est arrivé\")"
   ]
  },
  {
   "cell_type": "code",
   "execution_count": null,
   "id": "2aa91277",
   "metadata": {},
   "outputs": [],
   "source": []
  },
  {
   "cell_type": "code",
   "execution_count": null,
   "id": "ae76c728",
   "metadata": {},
   "outputs": [],
   "source": []
  }
 ],
 "metadata": {
  "kernelspec": {
   "display_name": "Python 3 (ipykernel)",
   "language": "python",
   "name": "python3"
  },
  "language_info": {
   "codemirror_mode": {
    "name": "ipython",
    "version": 3
   },
   "file_extension": ".py",
   "mimetype": "text/x-python",
   "name": "python",
   "nbconvert_exporter": "python",
   "pygments_lexer": "ipython3",
   "version": "3.11.5"
  }
 },
 "nbformat": 4,
 "nbformat_minor": 5
}
