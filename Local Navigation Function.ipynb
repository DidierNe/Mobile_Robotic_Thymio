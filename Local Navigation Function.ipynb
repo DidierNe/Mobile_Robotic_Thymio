{
 "cells": [
  {
   "cell_type": "markdown",
   "metadata": {},
   "source": [
    "#### Taken from Global Nav"
   ]
  },
  {
   "cell_type": "code",
   "execution_count": 4,
   "metadata": {},
   "outputs": [],
   "source": [
    "import time\n",
    "import asyncio\n",
    "from tdmclient import aw, ClientAsync\n",
    "import math\n",
    "import numpy as np\n",
    "\n",
    "# conversion thymio speed to mm/s\n",
    "Thymio_to_mms = 0.349\n",
    "px_to_mm = 140/100\n",
    "#Thymio_to_pxs = Thymio_to_mms * mm_to_px \n",
    "\n",
    "# Thymio connection\n",
    "async def connect_Thymio():\n",
    "    \"\"\"\n",
    "    Establish a connection with the Thymio if possible\n",
    "    \"\"\"\n",
    "    global node, client\n",
    "    try:\n",
    "        client = ClientAsync()\n",
    "        node = await asyncio.wait_for(client.wait_for_node(), timeout=2.0)\n",
    "        await node.lock()\n",
    "        print(\"Thymio connected\")\n",
    "\n",
    "    except asyncio.TimeoutError:\n",
    "        print(\"Thymio not connected: Timeout while waiting for node.\")\n",
    "    except Exception as e:\n",
    "        print(f\"Thymio not connected: {str(e)}\")\n",
    "        \n",
    "# Thymio disconnection\n",
    "def disconnect_Thymio():\n",
    "    \"\"\"\n",
    "    Enable to disconnect the Thymio\n",
    "    \"\"\"\n",
    "    aw(node.stop())\n",
    "    aw(node.unlock())\n",
    "    print(\"Thymio disconnected\")\n",
    "        \n",
    "# Thymio control motor speeds  \n",
    "async def set_speeds(left_speed, right_speed):\n",
    "    \"\"\"\n",
    "    Enable to set the speed of the Thymio's wheels\n",
    "    \"\"\"\n",
    "    global node\n",
    "    v = {\n",
    "        \"motor.left.target\":  [left_speed],\n",
    "        \"motor.right.target\": [right_speed],\n",
    "    }\n",
    "    await node.set_variables(v)\n",
    "    \n",
    "async def motors_stop():\n",
    "    \"\"\"\n",
    "    Stop the Thymio\n",
    "    \"\"\"\n",
    "    global node\n",
    "    v = {\n",
    "        \"motor.left.target\":  [0],\n",
    "        \"motor.right.target\": [0],\n",
    "    }\n",
    "    await node.set_variables(v)    \n",
    "\n",
    "# Turn a specified angle \n",
    "\n",
    "# Constants\n",
    "ROTATION_SPEED = 100\n",
    "TIME_FULL_TURN = (8800/1000)\n",
    "\n",
    "async def turn(angle):\n",
    "    # Calculate the time needed to turn through the required angle\n",
    "    rotation_time = (abs(angle) / (2*np.pi)) * TIME_FULL_TURN\n",
    "\n",
    "    # Turn robot on itself\n",
    "    # Check the sign of angle\n",
    "    if np.sign(angle) > 0:\n",
    "        # If angle is positive, turn in one direction\n",
    "        await set_speeds(ROTATION_SPEED, -ROTATION_SPEED)\n",
    "    else:\n",
    "        # If angle is negative, turn in the other direction\n",
    "        await set_speeds(-ROTATION_SPEED, ROTATION_SPEED)\n",
    "\n",
    "    # Wait required time\n",
    "    time.sleep(rotation_time)\n",
    "\n",
    "    # Stop the robot\n",
    "    #await motors_stop()\n",
    "\n",
    "# Constants\n",
    "FORWARD_SPEED = 200  # Base speed\n",
    "TIME_PER_MM = 15.5/1000  # Time it takes for the robot to travel one meter at base speed\n",
    "\n",
    "async def move_forward(distance_px):\n",
    "    # Calculate the time needed to travel the requested distance\n",
    "    \n",
    "    distance_mm = distance_px * px_to_mm\n",
    "    travel_time = (distance_mm) * TIME_PER_MM\n",
    "    \n",
    "    # Robot moves forward\n",
    "    await set_speeds(FORWARD_SPEED, FORWARD_SPEED)\n",
    "\n",
    "    # Wait for the necessary time\n",
    "    time.sleep(travel_time)\n",
    "    #print(\"End of forward after : \", travel_time)"
   ]
  },
  {
   "cell_type": "code",
   "execution_count": 5,
   "metadata": {
    "scrolled": false
   },
   "outputs": [
    {
     "name": "stdout",
     "output_type": "stream",
     "text": [
      "Thymio connected\n"
     ]
    }
   ],
   "source": [
    "await connect_Thymio()"
   ]
  },
  {
   "cell_type": "code",
   "execution_count": 6,
   "metadata": {},
   "outputs": [
    {
     "name": "stdout",
     "output_type": "stream",
     "text": [
      "Thymio disconnected\n"
     ]
    }
   ],
   "source": [
    "disconnect_Thymio()"
   ]
  },
  {
   "cell_type": "markdown",
   "metadata": {},
   "source": [
    "# Local Navigation "
   ]
  },
  {
   "cell_type": "code",
   "execution_count": 7,
   "metadata": {
    "scrolled": false
   },
   "outputs": [
    {
     "data": {
      "text/plain": [
       "Node 7ceccd72-4650-4181-812c-177085571dc0"
      ]
     },
     "execution_count": 7,
     "metadata": {},
     "output_type": "execute_result"
    }
   ],
   "source": [
    "node = await client.wait_for_node()\n",
    "await node.lock()"
   ]
  },
  {
   "cell_type": "code",
   "execution_count": 8,
   "metadata": {
    "scrolled": true
   },
   "outputs": [
    {
     "data": {
      "text/plain": [
       "{'_fwversion': [14, 0],\n",
       " '_id': [-1654],\n",
       " '_imot': [0, 0],\n",
       " '_integrator': [0, 0],\n",
       " '_productId': [8],\n",
       " '_vbat': [969, 973],\n",
       " 'acc': [0, 0, 21],\n",
       " 'acc._tap': [0],\n",
       " 'button.backward': [0],\n",
       " 'button.center': [0],\n",
       " 'button.forward': [0],\n",
       " 'button.left': [0],\n",
       " 'button.right': [0],\n",
       " 'buttons._mean': [11426, 9804, 14810, 14719, 16102],\n",
       " 'buttons._noise': [98, 87, 105, 100, 107],\n",
       " 'buttons._raw': [11444, 9810, 14775, 14727, 16128],\n",
       " 'event.args': [0,\n",
       "  0,\n",
       "  0,\n",
       "  0,\n",
       "  0,\n",
       "  0,\n",
       "  0,\n",
       "  0,\n",
       "  0,\n",
       "  0,\n",
       "  0,\n",
       "  0,\n",
       "  0,\n",
       "  0,\n",
       "  0,\n",
       "  0,\n",
       "  0,\n",
       "  0,\n",
       "  0,\n",
       "  0,\n",
       "  0,\n",
       "  0,\n",
       "  0,\n",
       "  0,\n",
       "  0,\n",
       "  0,\n",
       "  0,\n",
       "  0,\n",
       "  0,\n",
       "  0,\n",
       "  0,\n",
       "  0],\n",
       " 'event.source': [-1654],\n",
       " 'leds.bottom.left': [0, 0, 0],\n",
       " 'leds.bottom.right': [0, 0, 0],\n",
       " 'leds.circle': [0, 0, 0, 0, 0, 0, 0, 0],\n",
       " 'leds.top': [0, 0, 0],\n",
       " 'mic._mean': [255],\n",
       " 'mic.intensity': [3],\n",
       " 'mic.threshold': [0],\n",
       " 'motor.left.pwm': [0],\n",
       " 'motor.left.speed': [-4],\n",
       " 'motor.left.target': [0],\n",
       " 'motor.right.pwm': [0],\n",
       " 'motor.right.speed': [0],\n",
       " 'motor.right.target': [0],\n",
       " 'prox.comm.rx': [0],\n",
       " 'prox.comm.rx._intensities': [0, 0, 0, 0, 0, 0, 0],\n",
       " 'prox.comm.rx._payloads': [0, 0, 0, 0, 0, 0, 0],\n",
       " 'prox.comm.tx': [0],\n",
       " 'prox.ground.ambiant': [4, 3],\n",
       " 'prox.ground.delta': [1004, 999],\n",
       " 'prox.ground.reflected': [925, 919],\n",
       " 'prox.horizontal': [4767, 1661, 0, 0, 0, 0, 0],\n",
       " 'rc5.address': [0],\n",
       " 'rc5.command': [0],\n",
       " 'sd.present': [0],\n",
       " 'temperature': [269],\n",
       " 'timer.period': [0, 0]}"
      ]
     },
     "execution_count": 8,
     "metadata": {},
     "output_type": "execute_result"
    }
   ],
   "source": [
    "await node.wait_for_variables()\n",
    "node.var"
   ]
  },
  {
   "cell_type": "code",
   "execution_count": 9,
   "metadata": {},
   "outputs": [
    {
     "data": {
      "text/plain": [
       "8596"
      ]
     },
     "execution_count": 9,
     "metadata": {},
     "output_type": "execute_result"
    }
   ],
   "source": [
    "# Connect to the Thymio robot\n",
    "client.tdm_addr\n",
    "client.tdm_port"
   ]
  },
  {
   "cell_type": "markdown",
   "metadata": {},
   "source": [
    "### Desciption\n",
    "Local navigation involves adjusting the robot's path to navigate around unexpected obstacles in its immediate vicinity. This often requires the robot to deviate from the optimal path to execute avoidance maneuvers. Thymio has to navigate past random obstacles, not captured in the vision and not factored into the global path planning. \n",
    "\n",
    "Once the obstacle is successfully navigated, Thymio can either return to the optimal path or calculate a new one. \n",
    "\n",
    "Thymio is equipped with five front horizontal proximity sensors for it to detect unknown objects that emerge in its path. Our primary objective is to help Thymio skillfully navigate around these local obstacles whilst enabling ample time for subsequent planning of an optimal path toward the ultimate goal.\n",
    "\n",
    "- **Input**\n",
    "\n",
    "    - Horizontal proximity sensor values; constantly updated\n",
    "\n",
    "\n",
    "- **Output**\n",
    "\n",
    "    - Command for controlling the robot's translational and rotational motion\n",
    "\n",
    "\n",
    "- **Challenges**\n",
    "\n",
    "    - Determining the colour of our physical obstacles have to be white, to not have the camera capture the obstacle in global vision.\n",
    "    - Determining the shape of our obstacles have to be cylindrical for an optimal maneuver around it.\n",
    "    - Determining the fixed distance to move forward and theta (angle) for Thymio's rotation was challenging to set without prior knowledge of the obstacle's shape. If the distance was too short or the angle too small, the robot will run into the obstacle. This tok us multiple tries to reach the optimal `distance_forward` and `theta`, as it was challenging to determine when an obstacle is considered cleared. Thus we had to finetune our parameters multiple times to ensure the success of our Thymio's obstacle avoidance. \n",
    "    - Determining the obstacle threshold for when Thymio should initiate the local avoidance, `obstThrh`."
   ]
  },
  {
   "cell_type": "markdown",
   "metadata": {},
   "source": [
    "### Parameters "
   ]
  },
  {
   "cell_type": "markdown",
   "metadata": {},
   "source": [
    "| Name                | Purpose                                                                           | Units | Global?|\n",
    "| :------------------- | :------------------------------------------------------------------------------- |-------|-----|\n",
    "| `obstThrh`      | High obstacle threshold for switching from global navigation to local navigation state| Int   | Y |\n",
    "| `angle_turned` | Total angle turned since initial direction, before local avoidance                     | Radians| Y |\n",
    "| `theta` | Angle to turn back, for Thymio to be aligned with initial direction before local avoidance    | Radians | N |\n",
    "| `distance_forward`| Amount of distance to move forward  | Meters | Y |\n",
    "| `diff_lr`| Calculated difference between the most left and most right sensors | Int | N |\n"
   ]
  },
  {
   "cell_type": "code",
   "execution_count": 10,
   "metadata": {},
   "outputs": [],
   "source": [
    "## Parameters for local navigation\n",
    "pi = math.pi\n",
    "angle_turned = 0\n",
    "distance_forward = 1\n",
    "obstThrh = 20     # high obstacle threshold to switch state from global nav to local"
   ]
  },
  {
   "cell_type": "markdown",
   "metadata": {},
   "source": [
    "### Local Obstacle Avoidance"
   ]
  },
  {
   "cell_type": "code",
   "execution_count": 11,
   "metadata": {},
   "outputs": [],
   "source": [
    "async def local_avoidance(sensor_prox, theta, dist):\n",
    "    \"\"\"\n",
    "    1a. Obstacle detected right in front: rotate left + go forward\n",
    "    1b. Obstacle detected near sides: rotate + go forward\n",
    "    2. Determine rotation left or right\n",
    "    3. Wall following of the obstacle\n",
    "    4. After obstacle clearance, turn back to initial direction\n",
    "    \"\"\"\n",
    "    # Global variables\n",
    "    global node, obstThrh\n",
    "    \n",
    "    # Calculate difference in Left & Right sensors\n",
    "    diff_lr = sensor_prox[0] - sensor_prox[4]\n",
    "    \n",
    "    # Object detected right in front\n",
    "    if sensor_prox[2] > obstThrh: \n",
    "        # Rotate to the left + go forward\n",
    "        await turn(pi/4)  \n",
    "        theta += pi/4\n",
    "        print(\"Front obstacle, turning right\")\n",
    "        await move_forward(100*dist)\n",
    "        await turn(-theta/2)\n",
    "        print(\"Turning back to initial direction\")\n",
    "        await move_forward(dist*100)\n",
    "        await turn(-theta/2)\n",
    "        await turn(theta/2)\n",
    "        return\n",
    "    else:\n",
    "        # Obstacle threshold\n",
    "        if max(sensor_prox) > obstThrh:\n",
    "            if (sensor_prox[0] + sensor_prox[1]) > (sensor_prox[3] + sensor_prox[4]):\n",
    "                await turn(pi/24)\n",
    "                theta += pi/24\n",
    "                await move_forward(dist*2)\n",
    "                print(\"Left obstacle, turning right\")\n",
    "                if (diff_lr) > 0:\n",
    "                    await turn(pi/30)\n",
    "                    theta += pi/30\n",
    "                    await move_forward(dist)\n",
    "                    print(\"Left wall following\")\n",
    "                else:\n",
    "                    await move_forward(dist)\n",
    "                    print(\"Not wall following\")\n",
    "            elif (sensor_prox[3] + sensor_prox[4]) > (sensor_prox[0] + sensor_prox[1]):\n",
    "                await turn(-pi/24)\n",
    "                theta -= pi/24\n",
    "                await move_forward(dist*2)\n",
    "                print(\"Right obstacle, turning left\")\n",
    "                if (diff_lr) < 0:\n",
    "                    await turn(-pi/30)\n",
    "                    theta -= pi/30\n",
    "                    await move_forward(dist)\n",
    "                    print(\"Right wall following\")\n",
    "                else:\n",
    "                    await move_forward(dist)\n",
    "                    print(\"Not wall following\")\n",
    "            else:\n",
    "                return  # Do nothing\n",
    "    \n",
    "    # Obstacle cleared, move forward for a while before turning back to initial direction & move forward slightly more\n",
    "    await move_forward(110*dist)\n",
    "    await turn(-theta*dist*3.5)\n",
    "    print(\"Turning back to initial direction\")\n",
    "    await move_forward(140*dist)\n",
    "    await turn(theta*dist*3)\n",
    "    await move_forward(dist)\n",
    "    \n",
    "    await motors_stop()\n",
    "    return"
   ]
  },
  {
   "cell_type": "code",
   "execution_count": 26,
   "metadata": {
    "scrolled": true
   },
   "outputs": [
    {
     "name": "stdout",
     "output_type": "stream",
     "text": [
      "Thymio connected\n"
     ]
    }
   ],
   "source": [
    "await connect_Thymio()"
   ]
  },
  {
   "cell_type": "code",
   "execution_count": 27,
   "metadata": {},
   "outputs": [],
   "source": [
    "# Local avoidance function with sensor values\n",
    "async def la_function(sensor_prox): \n",
    "    await node.wait_for_variables()\n",
    "    \n",
    "    while sum(sensor_prox[i] > obstThrh for i in range(0, 5)) > 0: \n",
    "        sensor_prox = node[\"prox.horizontal\"]\n",
    "        print(list(sensor_prox))\n",
    "        await local_avoidance(sensor_prox, angle_turned, distance_forward)\n",
    "        await client.sleep(0.2)\n",
    "    print(\"Completed Local Avoidance!\")\n",
    "    return"
   ]
  },
  {
   "cell_type": "code",
   "execution_count": 28,
   "metadata": {
    "scrolled": true
   },
   "outputs": [
    {
     "name": "stdout",
     "output_type": "stream",
     "text": [
      "[0, 0, 0, 2196, 2698, 0, 0]\n",
      "Right obstacle, turning left\n",
      "Right wall following\n",
      "Turning back to initial direction\n",
      "Completed Local Avoidance!\n"
     ]
    }
   ],
   "source": [
    "# Example of calling local avoidance function\n",
    "await node.wait_for_variables()\n",
    "sensor_prox = node[\"prox.horizontal\"]\n",
    "await client.sleep(0.2)\n",
    "while sum(sensor_prox[i] > obstThrh for i in range(0, 5)) > 0: \n",
    "    await la_function(sensor_prox)"
   ]
  },
  {
   "cell_type": "code",
   "execution_count": 25,
   "metadata": {},
   "outputs": [
    {
     "name": "stdout",
     "output_type": "stream",
     "text": [
      "Thymio disconnected\n"
     ]
    }
   ],
   "source": [
    "disconnect_Thymio()"
   ]
  },
  {
   "cell_type": "code",
   "execution_count": null,
   "metadata": {},
   "outputs": [],
   "source": []
  }
 ],
 "metadata": {
  "kernelspec": {
   "display_name": "bmr",
   "language": "python",
   "name": "bmr"
  },
  "language_info": {
   "codemirror_mode": {
    "name": "ipython",
    "version": 3
   },
   "file_extension": ".py",
   "mimetype": "text/x-python",
   "name": "python",
   "nbconvert_exporter": "python",
   "pygments_lexer": "ipython3",
   "version": "3.10.9"
  },
  "toc": {
   "base_numbering": 1,
   "nav_menu": {},
   "number_sections": false,
   "sideBar": true,
   "skip_h1_title": true,
   "title_cell": "Table of Contents",
   "title_sidebar": "Contents",
   "toc_cell": true,
   "toc_position": {
    "height": "calc(100% - 180px)",
    "left": "10px",
    "top": "150px",
    "width": "291.675px"
   },
   "toc_section_display": true,
   "toc_window_display": true
  },
  "varInspector": {
   "cols": {
    "lenName": 16,
    "lenType": 16,
    "lenVar": 40
   },
   "kernels_config": {
    "python": {
     "delete_cmd_postfix": "",
     "delete_cmd_prefix": "del ",
     "library": "var_list.py",
     "varRefreshCmd": "print(var_dic_list())"
    },
    "r": {
     "delete_cmd_postfix": ") ",
     "delete_cmd_prefix": "rm(",
     "library": "var_list.r",
     "varRefreshCmd": "cat(var_dic_list()) "
    }
   },
   "types_to_exclude": [
    "module",
    "function",
    "builtin_function_or_method",
    "instance",
    "_Feature"
   ],
   "window_display": true
  }
 },
 "nbformat": 4,
 "nbformat_minor": 2
}
