{
 "cells": [
  {
   "cell_type": "markdown",
   "metadata": {},
   "source": [
    "# Local Navigation "
   ]
  },
  {
   "cell_type": "markdown",
   "metadata": {},
   "source": [
    "### Thymio connection"
   ]
  },
  {
   "cell_type": "code",
   "execution_count": 151,
   "metadata": {
    "scrolled": false
   },
   "outputs": [],
   "source": [
    "import tdmclient.notebook\n",
    "await tdmclient.notebook.start()"
   ]
  },
  {
   "cell_type": "markdown",
   "metadata": {},
   "source": [
    "### Import libraries"
   ]
  },
  {
   "cell_type": "code",
   "execution_count": 147,
   "metadata": {},
   "outputs": [],
   "source": [
    "import math\n",
    "import numpy as np\n",
    "import serial\n",
    "import time"
   ]
  },
  {
   "cell_type": "code",
   "execution_count": 152,
   "metadata": {},
   "outputs": [],
   "source": [
    "await tdmclient.notebook.stop()"
   ]
  },
  {
   "cell_type": "code",
   "execution_count": 153,
   "metadata": {
    "scrolled": false
   },
   "outputs": [
    {
     "data": {
      "text/plain": [
       "Node 7ceccd72-4650-4181-812c-177085571dc0"
      ]
     },
     "execution_count": 153,
     "metadata": {},
     "output_type": "execute_result"
    }
   ],
   "source": [
    "from tdmclient import ClientAsync, aw\n",
    "client = ClientAsync()\n",
    "node = await client.wait_for_node()\n",
    "await node.lock()"
   ]
  },
  {
   "cell_type": "code",
   "execution_count": 154,
   "metadata": {
    "scrolled": true
   },
   "outputs": [
    {
     "data": {
      "text/plain": [
       "{'_fwversion': [14, 0],\n",
       " '_id': [-1654],\n",
       " '_imot': [0, 0],\n",
       " '_integrator': [0, 0],\n",
       " '_productId': [8],\n",
       " '_vbat': [938, 946],\n",
       " 'acc': [0, 0, 21],\n",
       " 'acc._tap': [0],\n",
       " 'button.backward': [0],\n",
       " 'button.center': [0],\n",
       " 'button.forward': [0],\n",
       " 'button.left': [0],\n",
       " 'button.right': [0],\n",
       " 'buttons._mean': [11418, 9802, 14812, 14723, 16101],\n",
       " 'buttons._noise': [97, 86, 123, 106, 113],\n",
       " 'buttons._raw': [11426, 9761, 14808, 14730, 16104],\n",
       " 'event.args': [0,\n",
       "  0,\n",
       "  0,\n",
       "  0,\n",
       "  0,\n",
       "  0,\n",
       "  0,\n",
       "  0,\n",
       "  0,\n",
       "  0,\n",
       "  0,\n",
       "  0,\n",
       "  0,\n",
       "  0,\n",
       "  0,\n",
       "  0,\n",
       "  0,\n",
       "  0,\n",
       "  0,\n",
       "  0,\n",
       "  0,\n",
       "  0,\n",
       "  0,\n",
       "  0,\n",
       "  0,\n",
       "  0,\n",
       "  0,\n",
       "  0,\n",
       "  0,\n",
       "  0,\n",
       "  0,\n",
       "  0],\n",
       " 'event.source': [-1654],\n",
       " 'leds.bottom.left': [0, 0, 0],\n",
       " 'leds.bottom.right': [0, 0, 0],\n",
       " 'leds.circle': [0, 0, 0, 0, 0, 0, 0, 0],\n",
       " 'leds.top': [0, 0, 0],\n",
       " 'mic._mean': [259],\n",
       " 'mic.intensity': [51],\n",
       " 'mic.threshold': [0],\n",
       " 'motor.left.pwm': [0],\n",
       " 'motor.left.speed': [-7],\n",
       " 'motor.left.target': [0],\n",
       " 'motor.right.pwm': [0],\n",
       " 'motor.right.speed': [0],\n",
       " 'motor.right.target': [0],\n",
       " 'prox.comm.rx': [0],\n",
       " 'prox.comm.rx._intensities': [0, 0, 0, 0, 0, 0, 0],\n",
       " 'prox.comm.rx._payloads': [0, 0, 0, 0, 0, 0, 0],\n",
       " 'prox.comm.tx': [0],\n",
       " 'prox.ground.ambiant': [6, 4],\n",
       " 'prox.ground.delta': [1012, 1020],\n",
       " 'prox.ground.reflected': [948, 952],\n",
       " 'prox.horizontal': [0, 0, 0, 2633, 4533, 0, 0],\n",
       " 'rc5.address': [0],\n",
       " 'rc5.command': [0],\n",
       " 'sd.present': [0],\n",
       " 'temperature': [241],\n",
       " 'timer.period': [0, 0]}"
      ]
     },
     "execution_count": 154,
     "metadata": {},
     "output_type": "execute_result"
    }
   ],
   "source": [
    "await node.wait_for_variables()\n",
    "node.var"
   ]
  },
  {
   "cell_type": "code",
   "execution_count": 155,
   "metadata": {},
   "outputs": [],
   "source": [
    "# Connect to the Thymio robot\n",
    "client.tdm_addr\n",
    "client.tdm_port\n",
    "th = node"
   ]
  },
  {
   "cell_type": "markdown",
   "metadata": {},
   "source": [
    "### Desciption\n",
    "Local navigation allows modulating the trajectory to avoid unforeseen, local obstacles. It often pushes the controller to leave the optimal path to make an avoidance manoeuvre. Once the obstacle is passed, the controller can go back to the optimal path or find a new one. An important issue is to decide when the controller has to start avoiding, and, more difficult, when the obstacle can be considered as passed."
   ]
  },
  {
   "cell_type": "markdown",
   "metadata": {},
   "source": [
    "### Parameters "
   ]
  },
  {
   "cell_type": "code",
   "execution_count": 157,
   "metadata": {},
   "outputs": [],
   "source": [
    "## Parameters for local navigation\n",
    "pi = math.pi\n",
    "threshold_obst = 3500 # Obstacles ahead (Global)\n",
    "threshold_obst_local = 2500 # Obstacles locally \n",
    "threshold_obst_list = [3200, 3600, 3600, 3600, 3200] # Orient of robot during local nav\n",
    "\n",
    "## Global variables\n",
    "speed0 = 100       # nominal speed\n",
    "speedGain = 2      # speed gain with obstacle\n",
    "obstThrL = 10      # low obstacle threshold to switch state 1->0\n",
    "obstThrH = 20     # high obstacle threshold to switch state 0->1\n",
    "obstSpeedGainLocal = 5  # /100 (actual gain: 5/100=0.05)\n",
    "obstSpeedGainGlobal = [6, 4, -2, -6, -8]  # /100\n",
    "\n",
    "state = 1          # 0=towards goal, 1=obstacle avoidance\n",
    "obst = [0,0]       # measurements from left and right prox sensors\n",
    "\n",
    "timer_period[0] = 10   # 10ms sampling time"
   ]
  },
  {
   "cell_type": "markdown",
   "metadata": {},
   "source": [
    "### Sensor readings"
   ]
  },
  {
   "cell_type": "code",
   "execution_count": 156,
   "metadata": {},
   "outputs": [
    {
     "name": "stdout",
     "output_type": "stream",
     "text": [
      "[0, 0, 0, 2633, 4533, 0, 0]\n",
      "[0, 0, 0, 2600, 4705, 0, 0]\n",
      "[0, 0, 0, 2601, 4714, 0, 0]\n",
      "[0, 0, 0, 2596, 4716, 0, 0]\n",
      "[0, 0, 0, 2600, 4720, 0, 0]\n",
      "[0, 0, 0, 2602, 4723, 0, 0]\n",
      "[0, 0, 0, 2597, 4727, 0, 0]\n",
      "[0, 0, 0, 2594, 4729, 0, 0]\n",
      "[0, 0, 0, 2601, 4725, 0, 0]\n",
      "[0, 0, 0, 2605, 4723, 0, 0]\n"
     ]
    }
   ],
   "source": [
    "await node.wait_for_variables()\n",
    "for i in range(10):\n",
    "    # You can also replace \"prox.horizontal\" by an other prox sensor:\n",
    "    print(list(node[\"prox.horizontal\"]))\n",
    "    await client.sleep(0.2)"
   ]
  },
  {
   "cell_type": "code",
   "execution_count": 158,
   "metadata": {},
   "outputs": [
    {
     "name": "stdout",
     "output_type": "stream",
     "text": [
      "[0, 0, 0, 2601, 4729, 0, 0]\n",
      "[0, 0, 0, 2602, 4731, 0, 0]\n",
      "[0, 0, 0, 2594, 4724, 0, 0]\n",
      "[0, 0, 0, 2601, 4730, 0, 0]\n",
      "[0, 0, 0, 2602, 4734, 0, 0]\n",
      "[0, 0, 0, 2606, 4732, 0, 0]\n",
      "[0, 0, 0, 2600, 4736, 0, 0]\n",
      "[0, 0, 0, 2813, 4831, 0, 0]\n",
      "[0, 0, 0, 2851, 4846, 0, 0]\n",
      "[0, 0, 0, 2847, 4842, 0, 0]\n"
     ]
    }
   ],
   "source": [
    "# Reading sensor measurements\n",
    "# sensor_prox = th[\"prox.horizontal\"]\n",
    "await node.wait_for_variables({\"prox.horizontal\"})\n",
    "for i in range(10):\n",
    "    sensor_prox = node.v.prox.horizontal \n",
    "    print(list(sensor_prox))\n",
    "    await client.sleep(0.2)"
   ]
  },
  {
   "cell_type": "markdown",
   "metadata": {},
   "source": [
    "### Functions"
   ]
  },
  {
   "cell_type": "code",
   "execution_count": 229,
   "metadata": {},
   "outputs": [
    {
     "data": {
      "text/plain": [
       "Node 7ceccd72-4650-4181-812c-177085571dc0"
      ]
     },
     "execution_count": 229,
     "metadata": {},
     "output_type": "execute_result"
    }
   ],
   "source": [
    "aw(node.lock())"
   ]
  },
  {
   "cell_type": "code",
   "execution_count": 230,
   "metadata": {},
   "outputs": [],
   "source": [
    "@onevent\n",
    "def move_forward(speed0):\n",
    "#     global motor_left_target, motor_right_target\n",
    "    v = {\n",
    "        \"motor.left.target\": [speed0],\n",
    "        \"motor.right.target\": [speed0],\n",
    "    }\n",
    "    aw(node.set_variables(v))\n",
    "\n",
    "@onevent\n",
    "def stop_moving():\n",
    "#     global motor_left_target, motor_right_target\n",
    "    x = {\n",
    "        \"motor.left.target\": [0],\n",
    "        \"motor.right.target\": [0],\n",
    "    }\n",
    "    aw(node.set_variables(x))"
   ]
  },
  {
   "cell_type": "markdown",
   "metadata": {},
   "source": [
    "### Method 1\n",
    "#### 1. ANN\n",
    "- Train to find appropriate weights for each sensor\n",
    "\n",
    "#### 2. Potential Field Navigation"
   ]
  },
  {
   "cell_type": "code",
   "execution_count": 234,
   "metadata": {},
   "outputs": [],
   "source": [
    "@onevent \n",
    "def pt_field():\n",
    "    global prox_ground_delta, speed0, speedGain, obstSpeedGainGlobal\n",
    "    \n",
    "    # speed based on nominal velocity and ground\n",
    "    spLeft = speed0 - speedGain \n",
    "    spRight = speed0 + speedGain\n",
    "    \n",
    "    # adjustment for obstacles\n",
    "    for i in range(5):\n",
    "        print(sensor_prox[0])\n",
    "        spLeft += sensor_prox[i] * obstSpeedGainGlobal[i] // 100\n",
    "        spRight += sensor_prox[i] * obstSpeedGainGlobal[4 - i] // 100\n",
    "#         await client.sleep(0.2)\n",
    "    \n",
    "    # motor control\n",
    "    y = {\n",
    "        \"motor.left.target\": [spLeft],\n",
    "        \"motor.right.target\": [spRight],\n",
    "    }\n",
    "    aw(node.set_variables(y))\n",
    "#     motor_left_target = spLeft\n",
    "#     motor_right_target = spRight\n",
    "    \n",
    "    # Move in the same direction for 2 more seconds\n",
    "#     move_forward(speed0)\n",
    "#     time.sleep(0.2)\n",
    "#     stop_moving()\n",
    "    \n",
    "#      # Continue towards goal\n",
    "#     move_forward(speed0)   "
   ]
  },
  {
   "cell_type": "code",
   "execution_count": 232,
   "metadata": {},
   "outputs": [
    {
     "name": "stdout",
     "output_type": "stream",
     "text": [
      "0\n",
      "0\n",
      "0\n",
      "0\n",
      "0\n"
     ]
    }
   ],
   "source": [
    "# Test\n",
    "# acquisition from the proximity sensors to detect obstacles\n",
    "await node.wait_for_variables({\"prox.horizontal\"})\n",
    "\n",
    "for i in range(1000): \n",
    "    sensor_prox = node[\"prox.horizontal\"]\n",
    "#     sensor_prox = node.v.prox.horizontal \n",
    "    print(list(sensor_prox)\n",
    "    obst = [sensor_prox[0], sensor_prox[4]]\n",
    "\n",
    "    if state == 0: \n",
    "        # switch from goal tracking to obst avoidance if obstacle detected\n",
    "        if (obst[0] > obstThrH):\n",
    "            state = 1\n",
    "        elif (obst[1] > obstThrH):\n",
    "            state = 1\n",
    "    elif state == 1:\n",
    "        if obst[0] < obstThrL:\n",
    "            if obst[1] < obstThrL : \n",
    "                # switch from obst avoidance to goal tracking if obstacle got unseen\n",
    "                state = 0\n",
    "    if  state == 0 :\n",
    "        # goal tracking: stop for now\n",
    "        leds_top = [0,0,0]\n",
    "        stop_moving()\n",
    "    else:\n",
    "        leds_top = [30,30,30]\n",
    "        pt_field(sensor_prox)\n",
    "        # obstacle avoidance: accelerate wheel near obstacle\n",
    "        # motor_left_target = speed0 + obstSpeedGain * (obst[0] // 100)\n",
    "        #motor_right_target = speed0 + obstSpeedGain * (obst[1] // 100)\n",
    "\n",
    "    await client.sleep(0.2)"
   ]
  },
  {
   "cell_type": "code",
   "execution_count": 233,
   "metadata": {},
   "outputs": [],
   "source": [
    "# Stop motion\n",
    "move_forward(0)"
   ]
  },
  {
   "cell_type": "code",
   "execution_count": 200,
   "metadata": {},
   "outputs": [],
   "source": [
    "aw(node.unlock())"
   ]
  },
  {
   "cell_type": "code",
   "execution_count": 180,
   "metadata": {},
   "outputs": [],
   "source": [
    "# Test 2\n",
    "move_forward(speed0)\n",
    "while sum(sensor_prox[i] > threshold_obst_local for i in range(5)) > 0:\n",
    "    pt_field()"
   ]
  },
  {
   "cell_type": "code",
   "execution_count": null,
   "metadata": {},
   "outputs": [],
   "source": []
  },
  {
   "cell_type": "code",
   "execution_count": null,
   "metadata": {},
   "outputs": [],
   "source": []
  },
  {
   "cell_type": "code",
   "execution_count": null,
   "metadata": {},
   "outputs": [],
   "source": []
  },
  {
   "cell_type": "markdown",
   "metadata": {},
   "source": [
    "## Workings"
   ]
  },
  {
   "cell_type": "code",
   "execution_count": 11,
   "metadata": {},
   "outputs": [],
   "source": [
    "@onevent \n",
    "def combined_navigation():\n",
    "    global prox_ground_delta, prox_horizontal, motor_left_target, motor_right_target, state, obst, speed0, speedGain, obstSpeedGainLocal, obstSpeedGainGlobal\n",
    "    \n",
    "    # acquisition from ground sensor for going toward the goal\n",
    "    diffDelta = prox_ground_delta[1] - prox_ground_delta[0]\n",
    "\n",
    "    # acquisition from the proximity sensors to detect obstacles\n",
    "    obst = [prox_horizontal[0], prox_horizontal[4]]\n",
    "\n",
    "    # tdmclient does not support yet multiple and/or in if statements:\n",
    "    if state == 0: \n",
    "        # switch from goal tracking to obst avoidance if obstacle detected\n",
    "        if (obst[0] > obstThrH) or (obst[1] > obstThrH):\n",
    "            state = 1\n",
    "    elif state == 1:\n",
    "        if obst[0] < obstThrL and obst[1] < obstThrL:\n",
    "            # switch from obst avoidance to goal tracking if obstacle got unseen\n",
    "            state = 0\n",
    "\n",
    "    if state == 0:\n",
    "        # goal tracking: turn toward the goal\n",
    "        leds_top = [0, 0, 0]\n",
    "        motor_left_target = speed0 - speedGain * diffDelta\n",
    "        motor_right_target = speed0 + speedGain * diffDelta\n",
    "    else:\n",
    "        leds_top = [30, 30, 30]\n",
    "        # obstacle avoidance: accelerate wheel near obstacle\n",
    "        motor_left_target = speed0 + obstSpeedGainLocal * (obst[0] // 100)\n",
    "        motor_right_target = speed0 + obstSpeedGainLocal * (obst[1] // 100)\n",
    "\n",
    "        # adjustment for obstacles (\"gradient\" due to obstacles)\n",
    "        for i in range(5):\n",
    "            motor_left_target += prox_horizontal[i] * obstSpeedGainGlobal[i] // 100\n",
    "            motor_right_target += prox_horizontal[i] * obstSpeedGainGlobal[4 - i] // 100"
   ]
  },
  {
   "cell_type": "code",
   "execution_count": 31,
   "metadata": {},
   "outputs": [
    {
     "name": "stdout",
     "output_type": "stream",
     "text": [
      "Output before training: [0.93523729 0.95171766]\n"
     ]
    },
    {
     "ename": "ValueError",
     "evalue": "shapes (8,) and (2,) not aligned: 8 (dim 0) != 2 (dim 0)",
     "output_type": "error",
     "traceback": [
      "\u001b[1;31m---------------------------------------------------------------------------\u001b[0m",
      "\u001b[1;31mValueError\u001b[0m                                Traceback (most recent call last)",
      "Cell \u001b[1;32mIn[31], line 54\u001b[0m\n\u001b[0;32m     51\u001b[0m target \u001b[38;5;241m=\u001b[39m np\u001b[38;5;241m.\u001b[39marray([\u001b[38;5;241m0.8\u001b[39m, \u001b[38;5;241m0.2\u001b[39m])\n\u001b[0;32m     53\u001b[0m \u001b[38;5;66;03m# Backward pass (learning)\u001b[39;00m\n\u001b[1;32m---> 54\u001b[0m \u001b[43mneural_network\u001b[49m\u001b[38;5;241;43m.\u001b[39;49m\u001b[43mbackward\u001b[49m\u001b[43m(\u001b[49m\u001b[43minput_data\u001b[49m\u001b[43m,\u001b[49m\u001b[43m \u001b[49m\u001b[43mtarget\u001b[49m\u001b[43m,\u001b[49m\u001b[43m \u001b[49m\u001b[43mlearning_rate\u001b[49m\u001b[38;5;241;43m=\u001b[39;49m\u001b[38;5;241;43m0.1\u001b[39;49m\u001b[43m)\u001b[49m\n\u001b[0;32m     56\u001b[0m \u001b[38;5;66;03m# Forward pass after training\u001b[39;00m\n\u001b[0;32m     57\u001b[0m output_after_training \u001b[38;5;241m=\u001b[39m neural_network\u001b[38;5;241m.\u001b[39mforward(input_data)\n",
      "Cell \u001b[1;32mIn[31], line 33\u001b[0m, in \u001b[0;36mNeuralNetwork.backward\u001b[1;34m(self, inputs, targets, learning_rate)\u001b[0m\n\u001b[0;32m     30\u001b[0m hidden_layer_delta \u001b[38;5;241m=\u001b[39m hidden_layer_error \u001b[38;5;241m*\u001b[39m sigmoid_derivative(\u001b[38;5;28mself\u001b[39m\u001b[38;5;241m.\u001b[39mhidden_layer_activation)\n\u001b[0;32m     32\u001b[0m \u001b[38;5;66;03m# Update weights\u001b[39;00m\n\u001b[1;32m---> 33\u001b[0m \u001b[38;5;28mself\u001b[39m\u001b[38;5;241m.\u001b[39mweights_hidden_output \u001b[38;5;241m+\u001b[39m\u001b[38;5;241m=\u001b[39m \u001b[38;5;28;43mself\u001b[39;49m\u001b[38;5;241;43m.\u001b[39;49m\u001b[43mhidden_layer_activation\u001b[49m\u001b[38;5;241;43m.\u001b[39;49m\u001b[43mT\u001b[49m\u001b[38;5;241;43m.\u001b[39;49m\u001b[43mdot\u001b[49m\u001b[43m(\u001b[49m\u001b[43moutput_delta\u001b[49m\u001b[43m)\u001b[49m \u001b[38;5;241m*\u001b[39m learning_rate\n\u001b[0;32m     34\u001b[0m \u001b[38;5;28mself\u001b[39m\u001b[38;5;241m.\u001b[39mweights_input_hidden \u001b[38;5;241m+\u001b[39m\u001b[38;5;241m=\u001b[39m inputs\u001b[38;5;241m.\u001b[39mT\u001b[38;5;241m.\u001b[39mdot(hidden_layer_delta) \u001b[38;5;241m*\u001b[39m learning_rate\n",
      "\u001b[1;31mValueError\u001b[0m: shapes (8,) and (2,) not aligned: 8 (dim 0) != 2 (dim 0)"
     ]
    }
   ],
   "source": [
    "## Artifical Neural Network on Sensors\n",
    "\n",
    "# Sigmoid activation function\n",
    "def sigmoid(x):\n",
    "    return 1 / (1 + np.exp(-x))\n",
    "\n",
    "# Derivative of the sigmoid function\n",
    "def sigmoid_derivative(x):\n",
    "    return x * (1 - x)\n",
    "\n",
    "# Neural network class\n",
    "class NeuralNetwork:\n",
    "    def __init__(self, input_size, hidden_size, output_size):\n",
    "        # Initialize weights randomly\n",
    "        self.weights_input_hidden = np.random.rand(input_size, hidden_size)\n",
    "        self.weights_hidden_output = np.random.rand(hidden_size, output_size)\n",
    "\n",
    "    def forward(self, inputs):\n",
    "        # Propagate inputs through the network\n",
    "        self.hidden_layer_activation = sigmoid(np.dot(inputs, self.weights_input_hidden))\n",
    "        self.output = sigmoid(np.dot(self.hidden_layer_activation, self.weights_hidden_output))\n",
    "        return self.output\n",
    "\n",
    "    def backward(self, inputs, targets, learning_rate):\n",
    "        # Backpropagation to update weights\n",
    "        output_error = targets - self.output\n",
    "        output_delta = output_error * sigmoid_derivative(self.output)\n",
    "\n",
    "        hidden_layer_error = output_delta.dot(self.weights_hidden_output.T)\n",
    "        hidden_layer_delta = hidden_layer_error * sigmoid_derivative(self.hidden_layer_activation)\n",
    "\n",
    "        # Update weights\n",
    "        self.weights_hidden_output += self.hidden_layer_activation.T.dot(output_delta) * learning_rate\n",
    "        self.weights_input_hidden += inputs.T.dot(hidden_layer_delta) * learning_rate\n",
    "\n",
    "input_size = 5  # Number of sensors\n",
    "hidden_size = 8  # Number of hidden layer neurons\n",
    "output_size = 2  # Number of motor commands\n",
    "\n",
    "# Create a neural network\n",
    "neural_network = NeuralNetwork(input_size, hidden_size, output_size)\n",
    "\n",
    "# Example input (replace with actual sensor readings)\n",
    "input_data = np.random.rand(input_size)\n",
    "\n",
    "# Forward pass\n",
    "output = neural_network.forward(input_data)\n",
    "print(\"Output before training:\", output)\n",
    "\n",
    "# Example target (replace with actual desired motor commands)\n",
    "target = np.array([0.8, 0.2])\n",
    "\n",
    "# Backward pass (learning)\n",
    "neural_network.backward(input_data, target, learning_rate=0.1)\n",
    "\n",
    "# Forward pass after training\n",
    "output_after_training = neural_network.forward(input_data)\n",
    "print(\"Output after training:\", output_after_training)"
   ]
  },
  {
   "cell_type": "code",
   "execution_count": 13,
   "metadata": {},
   "outputs": [],
   "source": [
    "## Combined Method of Local Avoidance + Potential Field Navigation\n",
    "@onevent \n",
    "def combined_navigation():\n",
    "    global prox_ground_delta, prox_horizontal, motor_left_target, motor_right_target, state, obst, speed0, speedGain, obstSpeedGainLocal, obstSpeedGainGlobal\n",
    "    \n",
    "    # acquisition from ground sensor for going toward the goal\n",
    "    diffDelta = prox_ground_delta[1] - prox_ground_delta[0]\n",
    "\n",
    "    # acquisition from the proximity sensors to detect obstacles\n",
    "    obst = [prox_horizontal[0], prox_horizontal[4]]\n",
    "\n",
    "    if state == 0: \n",
    "        # switch from goal tracking to obst avoidance if obstacle detected\n",
    "        if (obst[0] > obstThrH) or (obst[1] > obstThrH):\n",
    "            state = 1\n",
    "    elif state == 1:\n",
    "        if obst[0] < obstThrL and obst[1] < obstThrL:\n",
    "            # switch from obst avoidance to goal tracking if obstacle got unseen\n",
    "            state = 0\n",
    "\n",
    "    if state == 0:\n",
    "        # goal tracking: turn toward the goal\n",
    "        leds_top = [0, 0, 0]\n",
    "        motor_left_target = speed0 - speedGain * diffDelta\n",
    "        motor_right_target = speed0 + speedGain * diffDelta\n",
    "    else:\n",
    "        leds_top = [30, 30, 30]\n",
    "        # obstacle avoidance: accelerate wheel near obstacle\n",
    "        motor_left_target = speed0 + obstSpeedGainLocal * (obst[0] // 100)\n",
    "        motor_right_target = speed0 + obstSpeedGainLocal * (obst[1] // 100)\n",
    "\n",
    "        # adjustment for obstacles (\"gradient\" due to obstacles)\n",
    "        for i in range(5):\n",
    "            motor_left_target += prox_horizontal[i] * obstSpeedGainGlobal[i] // 100\n",
    "            motor_right_target += prox_horizontal[i] * obstSpeedGainGlobal[4 - i] // 100\n",
    "    \n",
    "    # Add forward motion for 2 seconds after local avoidance\n",
    "    if state == 0:\n",
    "        time.sleep(2)\n",
    "        stopmotors()  # Stop after 2 seconds of forward motion"
   ]
  },
  {
   "cell_type": "code",
   "execution_count": 16,
   "metadata": {},
   "outputs": [
    {
     "ename": "IndexError",
     "evalue": "index 10 is out of bounds for axis 0 with size 7",
     "output_type": "error",
     "traceback": [
      "\u001b[1;31m---------------------------------------------------------------------------\u001b[0m",
      "\u001b[1;31mIndexError\u001b[0m                                Traceback (most recent call last)",
      "Cell \u001b[1;32mIn[16], line 51\u001b[0m\n\u001b[0;32m     48\u001b[0m reward \u001b[38;5;241m=\u001b[39m \u001b[38;5;241m-\u001b[39m\u001b[38;5;241m1\u001b[39m \u001b[38;5;28;01mif\u001b[39;00m \u001b[38;5;28many\u001b[39m(sensor_value \u001b[38;5;241m>\u001b[39m \u001b[38;5;241m500\u001b[39m \u001b[38;5;28;01mfor\u001b[39;00m sensor_value \u001b[38;5;129;01min\u001b[39;00m next_state) \u001b[38;5;28;01melse\u001b[39;00m \u001b[38;5;241m1\u001b[39m\n\u001b[0;32m     50\u001b[0m \u001b[38;5;66;03m# Update Q-table using Q-learning equation\u001b[39;00m\n\u001b[1;32m---> 51\u001b[0m q_table[state, action] \u001b[38;5;241m=\u001b[39m (\u001b[38;5;241m1\u001b[39m \u001b[38;5;241m-\u001b[39m learning_rate) \u001b[38;5;241m*\u001b[39m \u001b[43mq_table\u001b[49m\u001b[43m[\u001b[49m\u001b[43mstate\u001b[49m\u001b[43m,\u001b[49m\u001b[43m \u001b[49m\u001b[43maction\u001b[49m\u001b[43m]\u001b[49m \u001b[38;5;241m+\u001b[39m \\\n\u001b[0;32m     52\u001b[0m                          learning_rate \u001b[38;5;241m*\u001b[39m (reward \u001b[38;5;241m+\u001b[39m discount_factor \u001b[38;5;241m*\u001b[39m np\u001b[38;5;241m.\u001b[39mmax(q_table[next_state, :]))\n\u001b[0;32m     54\u001b[0m state \u001b[38;5;241m=\u001b[39m next_state\n\u001b[0;32m     55\u001b[0m total_reward \u001b[38;5;241m+\u001b[39m\u001b[38;5;241m=\u001b[39m reward\n",
      "\u001b[1;31mIndexError\u001b[0m: index 10 is out of bounds for axis 0 with size 7"
     ]
    }
   ],
   "source": [
    "# Initialize Thymio\n",
    "# th = Thymio.serial_default_port()\n",
    "motor_left_target = 0\n",
    "motor_right_target = 0\n",
    "\n",
    "# Define parameters\n",
    "num_sensors = 7\n",
    "num_actions = 2  # For simplicity, assuming left or right actions\n",
    "\n",
    "# Initialize Q-table (replace with neural network weights in a real-world scenario)\n",
    "q_table = np.random.rand(num_sensors, num_actions)\n",
    "\n",
    "# Training parameters\n",
    "learning_rate = 0.1\n",
    "discount_factor = 0.9\n",
    "exploration_rate = 1.0\n",
    "min_exploration_rate = 0.01\n",
    "exploration_decay = 0.995\n",
    "\n",
    "# Training loop\n",
    "for episode in range(100):\n",
    "    num_bins = 5\n",
    "    state = tuple(int(sensor_value/(1000/num_bins)) for sensor_value in prox_horizontal)\n",
    "\n",
    "    total_reward = 0\n",
    "\n",
    "    while True:\n",
    "        # Choose action using epsilon-greedy strategy\n",
    "        if np.random.uniform(0, 1) < exploration_rate:\n",
    "            action = np.random.randint(num_actions)\n",
    "        else:\n",
    "            action = np.argmax(q_table[state, :])\n",
    "\n",
    "        # Perform action in the environment\n",
    "        if action == 0:\n",
    "            # Move left\n",
    "            motor_left_target = -100\n",
    "            motor_rightt_target = 100\n",
    "        else:\n",
    "            # Move right\n",
    "            motor_left_target = 100\n",
    "            motor_rightt_target = -100\n",
    "\n",
    "        # Simulate environment (replace with actual robot interaction)\n",
    "        next_state = prox_horizontal\n",
    "\n",
    "        # Reward function (adjust based on your specific scenario)\n",
    "        reward = -1 if any(sensor_value > 500 for sensor_value in next_state) else 1\n",
    "\n",
    "        # Update Q-table using Q-learning equation\n",
    "        q_table[state, action] = (1 - learning_rate) * q_table[state, action] + \\\n",
    "                                 learning_rate * (reward + discount_factor * np.max(q_table[next_state, :]))\n",
    "\n",
    "        state = next_state\n",
    "        total_reward += reward\n",
    "\n",
    "        # Check for episode termination (replace with your specific termination condition)\n",
    "        if total_reward < -100:\n",
    "            break\n",
    "\n",
    "    # Decay exploration rate\n",
    "    exploration_rate = max(min_exploration_rate, exploration_rate * exploration_decay)\n",
    "\n",
    "    print(f\"Episode {episode + 1}, Total Reward: {total_reward}\")\n",
    "\n",
    "# Once training is done, you can use the learned Q-table to determine actions in a real-world scenario.\n"
   ]
  },
  {
   "cell_type": "code",
   "execution_count": 17,
   "metadata": {},
   "outputs": [
    {
     "name": "stdout",
     "output_type": "stream",
     "text": [
      "Epoch 0, Error: 0.4583485097727641\n",
      "Epoch 100, Error: 0.30563568604187524\n",
      "Epoch 200, Error: 0.29293927128374153\n",
      "Epoch 300, Error: 0.29120255369946174\n",
      "Epoch 400, Error: 0.2890043058379349\n",
      "Epoch 500, Error: 0.2859616394972115\n",
      "Epoch 600, Error: 0.28175705709210774\n",
      "Epoch 700, Error: 0.2761508116890472\n",
      "Epoch 800, Error: 0.26906361414992497\n",
      "Epoch 900, Error: 0.260523120705205\n",
      "Predicted Output: [0.50231524 0.51013992]\n"
     ]
    }
   ],
   "source": [
    "import numpy as np\n",
    "\n",
    "# Sigmoid activation function\n",
    "def sigmoid(x):\n",
    "    return 1 / (1 + np.exp(-x))\n",
    "\n",
    "# Derivative of the sigmoid function\n",
    "def sigmoid_derivative(x):\n",
    "    return x * (1 - x)\n",
    "\n",
    "# Neural network class\n",
    "class NeuralNetwork:\n",
    "    def __init__(self, input_size, hidden_size, output_size):\n",
    "        # Initialize weights randomly\n",
    "        self.weights_input_hidden = np.random.rand(input_size, hidden_size)\n",
    "        self.weights_hidden_output = np.random.rand(hidden_size, output_size)\n",
    "\n",
    "    def forward(self, inputs):\n",
    "        # Propagate inputs through the network\n",
    "        self.hidden_layer_activation = sigmoid(np.dot(inputs, self.weights_input_hidden))\n",
    "        self.output = sigmoid(np.dot(self.hidden_layer_activation, self.weights_hidden_output))\n",
    "        return self.output\n",
    "\n",
    "    def backward(self, inputs, targets, learning_rate):\n",
    "        # Backpropagation to update weights\n",
    "        output_error = targets - self.output\n",
    "        output_delta = output_error * sigmoid_derivative(self.output)\n",
    "\n",
    "        hidden_layer_error = output_delta.dot(self.weights_hidden_output.T)\n",
    "        hidden_layer_delta = hidden_layer_error * sigmoid_derivative(self.hidden_layer_activation)\n",
    "\n",
    "        # Update weights\n",
    "        self.weights_hidden_output += np.outer(self.hidden_layer_activation, output_delta) * learning_rate\n",
    "        self.weights_input_hidden += np.outer(inputs, hidden_layer_delta) * learning_rate\n",
    "\n",
    "# Example usage with training\n",
    "input_size = 5  # Number of sensors\n",
    "hidden_size = 8  # Number of hidden layer neurons\n",
    "output_size = 2  # Number of motor commands\n",
    "\n",
    "# Create a neural network\n",
    "neural_network = NeuralNetwork(input_size, hidden_size, output_size)\n",
    "\n",
    "# Training data (replace with your actual dataset)\n",
    "training_inputs = np.array([[0.1, 0.2, 0.3, 0.4, 0.5], [0.6, 0.7, 0.8, 0.9, 1.0]])\n",
    "training_outputs = np.array([[0.8, 0.2], [0.2, 0.8]])\n",
    "\n",
    "# Training parameters\n",
    "learning_rate = 0.1\n",
    "epochs = 1000\n",
    "\n",
    "# Training loop\n",
    "for epoch in range(epochs):\n",
    "    for i in range(len(training_inputs)):\n",
    "        input_data = training_inputs[i]\n",
    "        target = training_outputs[i]\n",
    "\n",
    "        # Forward pass\n",
    "        output = neural_network.forward(input_data)\n",
    "\n",
    "        # Backward pass (learning)\n",
    "        neural_network.backward(input_data, target, learning_rate)\n",
    "\n",
    "    if epoch % 100 == 0:\n",
    "        # Print training progress every 100 epochs\n",
    "        error = np.mean(np.abs(training_outputs - neural_network.forward(training_inputs)))\n",
    "        print(f\"Epoch {epoch}, Error: {error}\")\n",
    "\n",
    "# Test the trained model\n",
    "test_input = np.array([0.2, 0.3, 0.4, 0.5, 0.6])\n",
    "predicted_output = neural_network.forward(test_input)\n",
    "print(f\"Predicted Output: {predicted_output}\")\n"
   ]
  },
  {
   "cell_type": "markdown",
   "metadata": {},
   "source": [
    "##### When met with unknown obstacles\n",
    "- Sensor value: \n",
    "- Add weights to sensors"
   ]
  },
  {
   "cell_type": "code",
   "execution_count": 96,
   "metadata": {},
   "outputs": [],
   "source": [
    "motor_right=0\n",
    "motor_left=0"
   ]
  },
  {
   "cell_type": "code",
   "execution_count": 97,
   "metadata": {},
   "outputs": [],
   "source": [
    "v = [32, 0, 32, 0, 32, 0, 32, 0]\n",
    "leds_circle = v"
   ]
  }
 ],
 "metadata": {
  "kernelspec": {
   "display_name": "bmr",
   "language": "python",
   "name": "bmr"
  },
  "language_info": {
   "codemirror_mode": {
    "name": "ipython",
    "version": 3
   },
   "file_extension": ".py",
   "mimetype": "text/x-python",
   "name": "python",
   "nbconvert_exporter": "python",
   "pygments_lexer": "ipython3",
   "version": "3.10.9"
  },
  "toc": {
   "base_numbering": 1,
   "nav_menu": {},
   "number_sections": false,
   "sideBar": true,
   "skip_h1_title": true,
   "title_cell": "Table of Contents",
   "title_sidebar": "Contents",
   "toc_cell": true,
   "toc_position": {
    "height": "calc(100% - 180px)",
    "left": "10px",
    "top": "150px",
    "width": "291.675px"
   },
   "toc_section_display": true,
   "toc_window_display": true
  },
  "varInspector": {
   "cols": {
    "lenName": 16,
    "lenType": 16,
    "lenVar": 40
   },
   "kernels_config": {
    "python": {
     "delete_cmd_postfix": "",
     "delete_cmd_prefix": "del ",
     "library": "var_list.py",
     "varRefreshCmd": "print(var_dic_list())"
    },
    "r": {
     "delete_cmd_postfix": ") ",
     "delete_cmd_prefix": "rm(",
     "library": "var_list.r",
     "varRefreshCmd": "cat(var_dic_list()) "
    }
   },
   "types_to_exclude": [
    "module",
    "function",
    "builtin_function_or_method",
    "instance",
    "_Feature"
   ],
   "window_display": true
  }
 },
 "nbformat": 4,
 "nbformat_minor": 2
}
