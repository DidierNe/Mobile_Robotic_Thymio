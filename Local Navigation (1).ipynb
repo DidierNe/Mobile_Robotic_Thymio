{
 "cells": [
  {
   "cell_type": "markdown",
   "metadata": {},
   "source": [
    "#### Taken from Global Nav"
   ]
  },
  {
   "cell_type": "code",
   "execution_count": 1,
   "metadata": {},
   "outputs": [],
   "source": [
    "import time\n",
    "import asyncio\n",
    "from tdmclient import aw, ClientAsync\n",
    "import math\n",
    "import numpy as np\n",
    "\n",
    "# conversion thymio speed to mm/s\n",
    "Thymio_to_mms = 0.349\n",
    "px_to_mm = 140/100\n",
    "#Thymio_to_pxs = Thymio_to_mms * mm_to_px \n",
    "\n",
    "# Thymio connection\n",
    "async def connect_Thymio():\n",
    "    \"\"\"\n",
    "    Establish a connection with the Thymio if possible\n",
    "    \"\"\"\n",
    "    global node, client\n",
    "    try:\n",
    "        client = ClientAsync()\n",
    "        node = await asyncio.wait_for(client.wait_for_node(), timeout=2.0)\n",
    "        await node.lock()\n",
    "        print(\"Thymio connected\")\n",
    "\n",
    "    except asyncio.TimeoutError:\n",
    "        print(\"Thymio not connected: Timeout while waiting for node.\")\n",
    "    except Exception as e:\n",
    "        print(f\"Thymio not connected: {str(e)}\")\n",
    "        \n",
    "# Thymio disconnection\n",
    "def disconnect_Thymio():\n",
    "    \"\"\"\n",
    "    Enable to disconnect the Thymio\n",
    "    \"\"\"\n",
    "    aw(node.stop())\n",
    "    aw(node.unlock())\n",
    "    print(\"Thymio disconnected\")\n",
    "        \n",
    "# Thymio control motor speeds  \n",
    "async def set_speeds(left_speed, right_speed):\n",
    "    \"\"\"\n",
    "    Enable to set the speed of the Thymio's wheels\n",
    "    \"\"\"\n",
    "    global node\n",
    "    v = {\n",
    "        \"motor.left.target\":  [left_speed],\n",
    "        \"motor.right.target\": [right_speed],\n",
    "    }\n",
    "    await node.set_variables(v)\n",
    "    \n",
    "async def motors_stop():\n",
    "    \"\"\"\n",
    "    Stop the Thymio\n",
    "    \"\"\"\n",
    "    global node\n",
    "    v = {\n",
    "        \"motor.left.target\":  [0],\n",
    "        \"motor.right.target\": [0],\n",
    "    }\n",
    "    await node.set_variables(v)    \n",
    "\n",
    "# Turn a specified angle \n",
    "\n",
    "# Constants\n",
    "ROTATION_SPEED = 100\n",
    "TIME_FULL_TURN = (8800/1000)\n",
    "\n",
    "async def turn(angle):\n",
    "    # Calculate the time needed to turn through the required angle\n",
    "    rotation_time = (abs(angle) / (2*np.pi)) * TIME_FULL_TURN\n",
    "\n",
    "    # Turn robot on itself\n",
    "    # Check the sign of angle\n",
    "    if np.sign(angle) > 0:\n",
    "        # If angle is positive, turn in one direction\n",
    "        await set_speeds(ROTATION_SPEED, -ROTATION_SPEED)\n",
    "    else:\n",
    "        # If angle is negative, turn in the other direction\n",
    "        await set_speeds(-ROTATION_SPEED, ROTATION_SPEED)\n",
    "\n",
    "    # Wait required time\n",
    "    time.sleep(rotation_time)\n",
    "\n",
    "    # Stop the robot\n",
    "    #await motors_stop()\n",
    "\n",
    "# Constants\n",
    "FORWARD_SPEED = 200  # Base speed\n",
    "TIME_PER_MM = 15.5/1000  # Time it takes for the robot to travel one meter at base speed\n",
    "\n",
    "async def move_forward(distance_px):\n",
    "    # Calculate the time needed to travel the requested distance\n",
    "    \n",
    "    distance_mm = distance_px * px_to_mm\n",
    "    travel_time = (distance_mm) * TIME_PER_MM\n",
    "    \n",
    "    # Robot moves forward\n",
    "    await set_speeds(FORWARD_SPEED, FORWARD_SPEED)\n",
    "\n",
    "    # Wait for the necessary time\n",
    "    time.sleep(travel_time)\n",
    "    #print(\"End of forward after : \", travel_time)"
   ]
  },
  {
   "cell_type": "code",
   "execution_count": 4,
   "metadata": {
    "scrolled": true
   },
   "outputs": [
    {
     "name": "stdout",
     "output_type": "stream",
     "text": [
      "Thymio connected\n"
     ]
    }
   ],
   "source": [
    "await connect_Thymio()"
   ]
  },
  {
   "cell_type": "code",
   "execution_count": 5,
   "metadata": {},
   "outputs": [
    {
     "name": "stdout",
     "output_type": "stream",
     "text": [
      "Thymio disconnected\n"
     ]
    }
   ],
   "source": [
    "disconnect_Thymio()"
   ]
  },
  {
   "cell_type": "markdown",
   "metadata": {},
   "source": [
    "# Local Navigation "
   ]
  },
  {
   "cell_type": "code",
   "execution_count": 6,
   "metadata": {
    "scrolled": false
   },
   "outputs": [
    {
     "data": {
      "text/plain": [
       "Node 7ceccd72-4650-4181-812c-177085571dc0"
      ]
     },
     "execution_count": 6,
     "metadata": {},
     "output_type": "execute_result"
    }
   ],
   "source": [
    "node = await client.wait_for_node()\n",
    "await node.lock()"
   ]
  },
  {
   "cell_type": "code",
   "execution_count": 7,
   "metadata": {
    "scrolled": true
   },
   "outputs": [
    {
     "data": {
      "text/plain": [
       "{'_fwversion': [14, 0],\n",
       " '_id': [-1654],\n",
       " '_productId': [8],\n",
       " 'button.backward': [0],\n",
       " 'button.center': [0],\n",
       " 'button.forward': [0],\n",
       " 'button.left': [0],\n",
       " 'button.right': [0],\n",
       " 'buttons._raw': [11464, 9859, 14850, 14794, 16167],\n",
       " 'event.args': [0,\n",
       "  0,\n",
       "  0,\n",
       "  0,\n",
       "  0,\n",
       "  0,\n",
       "  0,\n",
       "  0,\n",
       "  0,\n",
       "  0,\n",
       "  0,\n",
       "  0,\n",
       "  0,\n",
       "  0,\n",
       "  0,\n",
       "  0,\n",
       "  0,\n",
       "  0,\n",
       "  0,\n",
       "  0,\n",
       "  0,\n",
       "  0,\n",
       "  0,\n",
       "  0,\n",
       "  0,\n",
       "  0,\n",
       "  0,\n",
       "  0,\n",
       "  0,\n",
       "  0,\n",
       "  0,\n",
       "  0],\n",
       " 'event.source': [-1654],\n",
       " '_imot': [0, 0],\n",
       " '_vbat': [971, 972],\n",
       " 'buttons._mean': [11453, 9842, 14866, 14777, 16148],\n",
       " 'buttons._noise': [101, 73, 103, 90, 101],\n",
       " 'motor.left.speed': [-5],\n",
       " 'motor.left.target': [0],\n",
       " 'motor.right.speed': [0],\n",
       " 'motor.right.target': [0],\n",
       " 'prox.comm.rx': [0],\n",
       " 'prox.comm.rx._intensities': [0, 0, 0, 0, 0, 0, 0],\n",
       " 'prox.comm.rx._payloads': [0, 0, 0, 0, 0, 0, 0],\n",
       " 'prox.comm.tx': [0],\n",
       " 'prox.ground.ambiant': [4, 3],\n",
       " 'prox.ground.delta': [1014, 1013],\n",
       " 'prox.ground.reflected': [884, 877],\n",
       " 'prox.horizontal': [3040, 3136, 3080, 2504, 4751, 0, 0],\n",
       " '_integrator': [0, 0],\n",
       " 'acc': [0, 0, 21],\n",
       " 'acc._tap': [0],\n",
       " 'leds.bottom.left': [0, 0, 0],\n",
       " 'leds.bottom.right': [0, 0, 0],\n",
       " 'leds.circle': [0, 0, 0, 0, 0, 0, 0, 0],\n",
       " 'leds.top': [0, 0, 0],\n",
       " 'mic._mean': [255],\n",
       " 'mic.intensity': [3],\n",
       " 'mic.threshold': [0],\n",
       " 'motor.left.pwm': [0],\n",
       " 'motor.right.pwm': [0],\n",
       " 'rc5.address': [0],\n",
       " 'rc5.command': [0],\n",
       " 'sd.present': [0],\n",
       " 'temperature': [215],\n",
       " 'timer.period': [0, 0]}"
      ]
     },
     "execution_count": 7,
     "metadata": {},
     "output_type": "execute_result"
    }
   ],
   "source": [
    "await node.wait_for_variables()\n",
    "node.var"
   ]
  },
  {
   "cell_type": "code",
   "execution_count": 8,
   "metadata": {},
   "outputs": [
    {
     "data": {
      "text/plain": [
       "8596"
      ]
     },
     "execution_count": 8,
     "metadata": {},
     "output_type": "execute_result"
    }
   ],
   "source": [
    "# Connect to the Thymio robot\n",
    "client.tdm_addr\n",
    "client.tdm_port"
   ]
  },
  {
   "cell_type": "markdown",
   "metadata": {},
   "source": [
    "### Desciption\n",
    "Local navigation allows modulating the trajectory to avoid unforeseen, local obstacles. It often pushes the controller to leave the optimal path to make an avoidance manoeuvre. Once the obstacle is passed, the controller can go back to the optimal path or find a new one. An important issue is to decide when the controller has to start avoiding, and, more difficult, when the obstacle can be considered as passed."
   ]
  },
  {
   "cell_type": "markdown",
   "metadata": {},
   "source": [
    "### Additional imports"
   ]
  },
  {
   "cell_type": "code",
   "execution_count": 9,
   "metadata": {},
   "outputs": [],
   "source": [
    "# new\n",
    "import serial"
   ]
  },
  {
   "cell_type": "markdown",
   "metadata": {},
   "source": [
    "### Parameters "
   ]
  },
  {
   "cell_type": "code",
   "execution_count": 10,
   "metadata": {},
   "outputs": [],
   "source": [
    "## Parameters for local navigation\n",
    "pi = math.pi\n",
    "\n",
    "obstThrL = 10     # low obstacle threshold to switch state 1->0 (from global nav to local)\n",
    "obstThrH = 20     # high obstacle threshold to switch state 0->1 (from local nav to global)\n",
    "obstThrO = 2500   # threshold for determining obstacles"
   ]
  },
  {
   "cell_type": "markdown",
   "metadata": {},
   "source": [
    "### Potential Field Navigation?"
   ]
  },
  {
   "cell_type": "code",
   "execution_count": 44,
   "metadata": {},
   "outputs": [],
   "source": [
    "# 1 \n",
    "async def pt_field():\n",
    "    \"\"\"\n",
    "    - Obstacle detected right in front: only rotate\n",
    "    - Obstacle detected near sides: rotate + go forward\n",
    "    - Determine rotation left or right\n",
    "    \"\"\"\n",
    "    # Read sensor values\n",
    "    global node\n",
    "    await node.wait_for_variables()\n",
    "    # sensor_prox = node.v.prox.horizontal \n",
    "    for i in range(10):\n",
    "        sensor_prox = node[\"prox.horizontal\"]\n",
    "        print(list(sensor_prox))\n",
    "        \n",
    "        # Call obstacle avoidance function\n",
    "        await turn_move(sensor_prox) # Rotate left or right depending on sensor values\n",
    "        await client.sleep(0.2)\n",
    "    await motors_stop()\n",
    "\n",
    "async def turn_move(sensor_prox):\n",
    "    # Object detected right in front\n",
    "    if sensor_prox[2] > (sensor_prox[1]+sensor_prox[3]):\n",
    "        # Rotate only\n",
    "        await turn(pi/2) # Rotate 90 degrees to the left\n",
    "    \n",
    "    # Left sensors weights > Right sensors\n",
    "    # Turn right\n",
    "    elif (sensor_prox[0]+sensor_prox[1]) > (sensor_prox[3]+sensor_prox[4]):\n",
    "        await turn(pi/4)\n",
    "        await move_forward(1) \n",
    "        # await turn('right',sensor_prox, threshold_loc,local_motor_speed)\n",
    "        \n",
    "    # Right sensors weights > Left sensors\n",
    "    # Turn left    \n",
    "    elif (sensor_prox[3]+sensor_prox[4]) > (sensor_prox[0]+sensor_prox[1]):\n",
    "        await turn(-pi/4)\n",
    "        await move_forward(1)\n",
    "        # await turn('left',sensor_prox, threshold_loc,local_motor_speed)\n",
    "   \n",
    "    # Detect nothing, just move forward\n",
    "    else:\n",
    "        await move_forward(0.05)\n",
    "        await motors_stop()"
   ]
  },
  {
   "cell_type": "code",
   "execution_count": 47,
   "metadata": {},
   "outputs": [],
   "source": [
    "# 2 - Added local obstacle threshold\n",
    "async def pt_field():\n",
    "    \"\"\"\n",
    "    - Obstacle detected right in front: only rotate\n",
    "    - Obstacle detected near sides: rotate + go forward\n",
    "    - Determine rotation left or right\n",
    "    - \n",
    "    \"\"\"\n",
    "    # Read sensor values\n",
    "    global node\n",
    "    await node.wait_for_variables()\n",
    "    # sensor_prox = node.v.prox.horizontal \n",
    "    for i in range(10): # while True:\n",
    "        sensor_prox = node[\"prox.horizontal\"]\n",
    "        print(list(sensor_prox))\n",
    "        \n",
    "        # Call obstacle avoidance function\n",
    "        await turn_move(sensor_prox) # Rotate left or right depending on sensor values\n",
    "        await client.sleep(0.2)\n",
    "    await motors_stop()\n",
    "\n",
    "async def turn_move(sensor_prox):\n",
    "    # Object detected right in front\n",
    "    if sensor_prox[2] > (sensor_prox[0]+sensor_prox[1]+sensor_prox[3]+sensor_prox[4]):\n",
    "        # Rotate only\n",
    "        await turn(pi/2) # Rotate 90 degrees to the left\n",
    "    else:\n",
    "        # Left sensors weights > Right sensors\n",
    "        # Turn right\n",
    "        if (sensor_prox[0]+sensor_prox[1]) > (sensor_prox[3]+sensor_prox[4]):\n",
    "            while sum(sensor_prox[i] > obstThrO for i in range(0,5)) > 0:\n",
    "                await turn(pi/6) \n",
    "            while sensor_prox[0] > obstThrH:\n",
    "                await move_forward(1)\n",
    "            # turn back?\n",
    "            await turn(-pi/6)\n",
    "        # Right sensors weights > Left sensors\n",
    "        # Turn left    \n",
    "        elif (sensor_prox[3]+sensor_prox[4]) > (sensor_prox[0]+sensor_prox[1]):\n",
    "            while sum(sensor_prox[i] > obstThrO for i in range(0,5)) > 0:\n",
    "                await turn(-pi/6)\n",
    "            while sensor_prox[4] > obstThrH:\n",
    "                await move_forward(1)\n",
    "            # turn back?\n",
    "            await turn(pi/6)\n",
    "        # Detect nothing, just move forward\n",
    "        else:\n",
    "            await move_forward(0.05)\n",
    "            await motors_stop()"
   ]
  },
  {
   "cell_type": "code",
   "execution_count": 48,
   "metadata": {},
   "outputs": [],
   "source": [
    "# 3 - Wall following\n",
    "async def pt_field():\n",
    "    \"\"\"\n",
    "    - Obstacle detected right in front: only rotate\n",
    "    - Obstacle detected near sides: rotate + go forward\n",
    "    - Determine rotation left or right\n",
    "    - Wall following of the obstacle\n",
    "    \"\"\"\n",
    "    # Read sensor values\n",
    "    global node\n",
    "    await node.wait_for_variables()\n",
    "    # sensor_prox = node.v.prox.horizontal \n",
    "    for i in range(10): # while True:\n",
    "        sensor_prox = node[\"prox.horizontal\"]\n",
    "        print(list(sensor_prox))\n",
    "        \n",
    "        # Call obstacle avoidance function\n",
    "        await turn_move(sensor_prox) # Rotate left or right depending on sensor values\n",
    "        await client.sleep(0.2)\n",
    "    await motors_stop()\n",
    "\n",
    "async def turn_move(sensor_prox):\n",
    "    # Object detected right in front\n",
    "    if sensor_prox[2] > (sensor_prox[0]+sensor_prox[1]+sensor_prox[3]+sensor_prox[4]):\n",
    "        # Rotate only\n",
    "        await turn(pi/2) # Rotate 90 degrees to the left\n",
    "    else:\n",
    "        # Calculate difference in Left & Right sensors\n",
    "        diff_lr = sensor_prox[0] - sensor_prox[4]\n",
    "        \n",
    "        # Wall-following\n",
    "        if abs(diff_lr) < obstThrL: \n",
    "            await move_forward(1)\n",
    "        elif diff_lr > 0: \n",
    "            await turn(pi/24)\n",
    "            await move_forward(0.1)\n",
    "        else: \n",
    "            await turn(-pi/24)\n",
    "            await move_forward(0.1)\n",
    "        \n",
    "        # Detect nothing, just move forward\n",
    "#         else:\n",
    "#             await move_forward(0.05)\n",
    "#             await motors_stop()"
   ]
  },
  {
   "cell_type": "code",
   "execution_count": 39,
   "metadata": {
    "scrolled": true
   },
   "outputs": [
    {
     "name": "stdout",
     "output_type": "stream",
     "text": [
      "Thymio connected\n"
     ]
    }
   ],
   "source": [
    "await connect_Thymio()"
   ]
  },
  {
   "cell_type": "code",
   "execution_count": 52,
   "metadata": {
    "scrolled": true
   },
   "outputs": [
    {
     "name": "stdout",
     "output_type": "stream",
     "text": [
      "[0, 0, 3190, 4739, 5005, 0, 0]\n",
      "[0, 0, 0, 3011, 4422, 0, 0]\n",
      "[0, 0, 0, 3018, 4833, 0, 0]\n",
      "[0, 0, 0, 0, 4922, 0, 0]\n",
      "[0, 0, 0, 1382, 0, 0, 0]\n",
      "[0, 0, 1668, 1874, 0, 0, 0]\n",
      "[0, 0, 2694, 1992, 1718, 0, 0]\n",
      "[0, 0, 5029, 2415, 3763, 0, 0]\n",
      "[0, 0, 0, 3146, 4558, 0, 0]\n",
      "[0, 0, 0, 3253, 4204, 0, 0]\n"
     ]
    }
   ],
   "source": [
    "# Test\n",
    "await pt_field()"
   ]
  },
  {
   "cell_type": "code",
   "execution_count": 53,
   "metadata": {},
   "outputs": [
    {
     "name": "stdout",
     "output_type": "stream",
     "text": [
      "Thymio disconnected\n"
     ]
    }
   ],
   "source": [
    "disconnect_Thymio()"
   ]
  }
 ],
 "metadata": {
  "kernelspec": {
   "display_name": "bmr",
   "language": "python",
   "name": "bmr"
  },
  "language_info": {
   "codemirror_mode": {
    "name": "ipython",
    "version": 3
   },
   "file_extension": ".py",
   "mimetype": "text/x-python",
   "name": "python",
   "nbconvert_exporter": "python",
   "pygments_lexer": "ipython3",
   "version": "3.10.9"
  },
  "toc": {
   "base_numbering": 1,
   "nav_menu": {},
   "number_sections": false,
   "sideBar": true,
   "skip_h1_title": true,
   "title_cell": "Table of Contents",
   "title_sidebar": "Contents",
   "toc_cell": true,
   "toc_position": {
    "height": "calc(100% - 180px)",
    "left": "10px",
    "top": "150px",
    "width": "291.675px"
   },
   "toc_section_display": true,
   "toc_window_display": true
  },
  "varInspector": {
   "cols": {
    "lenName": 16,
    "lenType": 16,
    "lenVar": 40
   },
   "kernels_config": {
    "python": {
     "delete_cmd_postfix": "",
     "delete_cmd_prefix": "del ",
     "library": "var_list.py",
     "varRefreshCmd": "print(var_dic_list())"
    },
    "r": {
     "delete_cmd_postfix": ") ",
     "delete_cmd_prefix": "rm(",
     "library": "var_list.r",
     "varRefreshCmd": "cat(var_dic_list()) "
    }
   },
   "types_to_exclude": [
    "module",
    "function",
    "builtin_function_or_method",
    "instance",
    "_Feature"
   ],
   "window_display": true
  }
 },
 "nbformat": 4,
 "nbformat_minor": 2
}
